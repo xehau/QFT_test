{
  "nbformat": 4,
  "nbformat_minor": 0,
  "metadata": {
    "colab": {
      "name": "basic_text_classification.ipynb",
      "version": "0.3.2",
      "provenance": [],
      "collapsed_sections": [],
      "include_colab_link": true
    },
    "kernelspec": {
      "name": "python3",
      "display_name": "Python 3"
    },
    "accelerator": "GPU"
  },
  "cells": [
    {
      "cell_type": "markdown",
      "metadata": {
        "id": "view-in-github",
        "colab_type": "text"
      },
      "source": [
        "<a href=\"https://colab.research.google.com/github/xehau/xehau_lessons/blob/TensorFlow_lesson/basic_text_classification.ipynb\" target=\"_parent\"><img src=\"https://colab.research.google.com/assets/colab-badge.svg\" alt=\"Open In Colab\"/></a>"
      ]
    },
    {
      "cell_type": "code",
      "metadata": {
        "id": "pmFABXhBR9bC",
        "colab_type": "code",
        "colab": {}
      },
      "source": [
        "  # 映画レビューのテキスト分類\n",
        "  #  https://www.tensorflow.org/tutorials/keras/basic_text_classification"
      ],
      "execution_count": 0,
      "outputs": []
    },
    {
      "cell_type": "code",
      "metadata": {
        "id": "ySnM77pzSPIA",
        "colab_type": "code",
        "colab": {}
      },
      "source": [
        "# keras.datasets.imdb is broken in 1.13 and 1.14, by np 1.16.3\n",
        "!pip install -q tf_nightly"
      ],
      "execution_count": 0,
      "outputs": []
    },
    {
      "cell_type": "code",
      "metadata": {
        "id": "AKqcxqnMSd3J",
        "colab_type": "code",
        "outputId": "393d0b05-f2e0-4c38-d948-55a7ecb2d884",
        "colab": {
          "base_uri": "https://localhost:8080/",
          "height": 34
        }
      },
      "source": [
        "from __future__ import absolute_import, division, print_function, unicode_literals\n",
        "\n",
        "import tensorflow as tf\n",
        "from tensorflow import keras\n",
        "\n",
        "import numpy as np\n",
        "\n",
        "print(tf.__version__)"
      ],
      "execution_count": 0,
      "outputs": [
        {
          "output_type": "stream",
          "text": [
            "1.14.1-dev20190531\n"
          ],
          "name": "stdout"
        }
      ]
    },
    {
      "cell_type": "code",
      "metadata": {
        "id": "-n4XOa7ySiCX",
        "colab_type": "code",
        "colab": {}
      },
      "source": [
        "imdb = keras.datasets.imdb\n",
        "\n",
        "(train_data, train_labels), (test_data, test_labels) = imdb.load_data(num_words=10000)"
      ],
      "execution_count": 0,
      "outputs": []
    },
    {
      "cell_type": "code",
      "metadata": {
        "id": "XIpZ6e4ETHt_",
        "colab_type": "code",
        "outputId": "d5e2adbb-d51a-4210-dd40-82f374ed15bf",
        "colab": {
          "base_uri": "https://localhost:8080/",
          "height": 34
        }
      },
      "source": [
        "print(\"Training entries: {}, labels: {}\".format(len(train_data), len(train_labels)))"
      ],
      "execution_count": 0,
      "outputs": [
        {
          "output_type": "stream",
          "text": [
            "Training entries: 25000, labels: 25000\n"
          ],
          "name": "stdout"
        }
      ]
    },
    {
      "cell_type": "code",
      "metadata": {
        "id": "GxNKUwnVTM1f",
        "colab_type": "code",
        "outputId": "d2dae125-cc93-431f-eab8-9e9c0489134d",
        "colab": {
          "base_uri": "https://localhost:8080/",
          "height": 54
        }
      },
      "source": [
        "print(train_data[0])"
      ],
      "execution_count": 0,
      "outputs": [
        {
          "output_type": "stream",
          "text": [
            "[1, 14, 22, 16, 43, 530, 973, 1622, 1385, 65, 458, 4468, 66, 3941, 4, 173, 36, 256, 5, 25, 100, 43, 838, 112, 50, 670, 2, 9, 35, 480, 284, 5, 150, 4, 172, 112, 167, 2, 336, 385, 39, 4, 172, 4536, 1111, 17, 546, 38, 13, 447, 4, 192, 50, 16, 6, 147, 2025, 19, 14, 22, 4, 1920, 4613, 469, 4, 22, 71, 87, 12, 16, 43, 530, 38, 76, 15, 13, 1247, 4, 22, 17, 515, 17, 12, 16, 626, 18, 2, 5, 62, 386, 12, 8, 316, 8, 106, 5, 4, 2223, 5244, 16, 480, 66, 3785, 33, 4, 130, 12, 16, 38, 619, 5, 25, 124, 51, 36, 135, 48, 25, 1415, 33, 6, 22, 12, 215, 28, 77, 52, 5, 14, 407, 16, 82, 2, 8, 4, 107, 117, 5952, 15, 256, 4, 2, 7, 3766, 5, 723, 36, 71, 43, 530, 476, 26, 400, 317, 46, 7, 4, 2, 1029, 13, 104, 88, 4, 381, 15, 297, 98, 32, 2071, 56, 26, 141, 6, 194, 7486, 18, 4, 226, 22, 21, 134, 476, 26, 480, 5, 144, 30, 5535, 18, 51, 36, 28, 224, 92, 25, 104, 4, 226, 65, 16, 38, 1334, 88, 12, 16, 283, 5, 16, 4472, 113, 103, 32, 15, 16, 5345, 19, 178, 32]\n"
          ],
          "name": "stdout"
        }
      ]
    },
    {
      "cell_type": "code",
      "metadata": {
        "id": "AhengEHcTPKf",
        "colab_type": "code",
        "outputId": "9035c099-7bbf-4b10-f9dc-79265a862eba",
        "colab": {
          "base_uri": "https://localhost:8080/",
          "height": 34
        }
      },
      "source": [
        "len(train_data[0]), len(train_data[1])"
      ],
      "execution_count": 0,
      "outputs": [
        {
          "output_type": "execute_result",
          "data": {
            "text/plain": [
              "(218, 189)"
            ]
          },
          "metadata": {
            "tags": []
          },
          "execution_count": 9
        }
      ]
    },
    {
      "cell_type": "code",
      "metadata": {
        "id": "D9GQTW7OTWUj",
        "colab_type": "code",
        "colab": {}
      },
      "source": [
        "# 単語を整数にマッピングする辞書\n",
        "word_index = imdb.get_word_index()\n",
        "\n",
        "# インデックスの最初の方は予約済み\n",
        "word_index = {k:(v+3) for k,v in word_index.items()}\n",
        "word_index[\"<PAD>\"] = 0\n",
        "word_index[\"<START>\"] = 1\n",
        "word_index[\"<UNK>\"] = 2  # unknown\n",
        "word_index[\"<UNUSED>\"] = 3\n",
        "\n",
        "reverse_word_index = dict([(value, key) for (key, value) in word_index.items()])\n",
        "\n",
        "def decode_review(text):\n",
        "    return ' '.join([reverse_word_index.get(i, '?') for i in text])"
      ],
      "execution_count": 0,
      "outputs": []
    },
    {
      "cell_type": "code",
      "metadata": {
        "id": "nX8E1J5vTbY3",
        "colab_type": "code",
        "outputId": "b5cdbfad-fc40-4d13-d711-8f16ca7d90de",
        "colab": {
          "base_uri": "https://localhost:8080/",
          "height": 54
        }
      },
      "source": [
        "decode_review(train_data[0])"
      ],
      "execution_count": 0,
      "outputs": [
        {
          "output_type": "execute_result",
          "data": {
            "text/plain": [
              "\"<START> this film was just brilliant casting location scenery story direction everyone's really suited the part they played and you could just imagine being there robert <UNK> is an amazing actor and now the same being director <UNK> father came from the same scottish island as myself so i loved the fact there was a real connection with this film the witty remarks throughout the film were great it was just brilliant so much that i bought the film as soon as it was released for <UNK> and would recommend it to everyone to watch and the fly fishing was amazing really cried at the end it was so sad and you know what they say if you cry at a film it must have been good and this definitely was also <UNK> to the two little boy's that played the <UNK> of norman and paul they were just brilliant children are often left out of the <UNK> list i think because the stars that play them all grown up are such a big profile for the whole film but these children are amazing and should be praised for what they have done don't you think the whole story was so lovely because it was true and was someone's life after all that was shared with us all\""
            ]
          },
          "metadata": {
            "tags": []
          },
          "execution_count": 11
        }
      ]
    },
    {
      "cell_type": "code",
      "metadata": {
        "id": "q_V_TcrSTjlZ",
        "colab_type": "code",
        "colab": {}
      },
      "source": [
        "train_data = keras.preprocessing.sequence.pad_sequences(train_data,\n",
        "                                                        value=word_index[\"<PAD>\"],\n",
        "                                                        padding='post',\n",
        "                                                        maxlen=256)\n",
        "\n",
        "test_data = keras.preprocessing.sequence.pad_sequences(test_data,\n",
        "                                                       value=word_index[\"<PAD>\"],\n",
        "                                                       padding='post',\n",
        "                                                       maxlen=256)"
      ],
      "execution_count": 0,
      "outputs": []
    },
    {
      "cell_type": "code",
      "metadata": {
        "id": "sR0_q3zjTobf",
        "colab_type": "code",
        "outputId": "79a92c7f-2559-44a2-8775-8d3f9ca29921",
        "colab": {
          "base_uri": "https://localhost:8080/",
          "height": 34
        }
      },
      "source": [
        "len(train_data[0]), len(train_data[1])"
      ],
      "execution_count": 0,
      "outputs": [
        {
          "output_type": "execute_result",
          "data": {
            "text/plain": [
              "(256, 256)"
            ]
          },
          "metadata": {
            "tags": []
          },
          "execution_count": 13
        }
      ]
    },
    {
      "cell_type": "code",
      "metadata": {
        "id": "us0csanETsGY",
        "colab_type": "code",
        "outputId": "07a050f3-c61c-4f9c-a822-e64e4f6f2235",
        "colab": {
          "base_uri": "https://localhost:8080/",
          "height": 336
        }
      },
      "source": [
        "print(train_data[0])"
      ],
      "execution_count": 0,
      "outputs": [
        {
          "output_type": "stream",
          "text": [
            "[   1   14   22   16   43  530  973 1622 1385   65  458 4468   66 3941\n",
            "    4  173   36  256    5   25  100   43  838  112   50  670    2    9\n",
            "   35  480  284    5  150    4  172  112  167    2  336  385   39    4\n",
            "  172 4536 1111   17  546   38   13  447    4  192   50   16    6  147\n",
            " 2025   19   14   22    4 1920 4613  469    4   22   71   87   12   16\n",
            "   43  530   38   76   15   13 1247    4   22   17  515   17   12   16\n",
            "  626   18    2    5   62  386   12    8  316    8  106    5    4 2223\n",
            " 5244   16  480   66 3785   33    4  130   12   16   38  619    5   25\n",
            "  124   51   36  135   48   25 1415   33    6   22   12  215   28   77\n",
            "   52    5   14  407   16   82    2    8    4  107  117 5952   15  256\n",
            "    4    2    7 3766    5  723   36   71   43  530  476   26  400  317\n",
            "   46    7    4    2 1029   13  104   88    4  381   15  297   98   32\n",
            " 2071   56   26  141    6  194 7486   18    4  226   22   21  134  476\n",
            "   26  480    5  144   30 5535   18   51   36   28  224   92   25  104\n",
            "    4  226   65   16   38 1334   88   12   16  283    5   16 4472  113\n",
            "  103   32   15   16 5345   19  178   32    0    0    0    0    0    0\n",
            "    0    0    0    0    0    0    0    0    0    0    0    0    0    0\n",
            "    0    0    0    0    0    0    0    0    0    0    0    0    0    0\n",
            "    0    0    0    0]\n"
          ],
          "name": "stdout"
        }
      ]
    },
    {
      "cell_type": "code",
      "metadata": {
        "id": "jUpex0dqTwwY",
        "colab_type": "code",
        "outputId": "421dff9c-eff8-4e66-c64f-cebab07f7e35",
        "colab": {
          "base_uri": "https://localhost:8080/",
          "height": 373
        }
      },
      "source": [
        "# 入力の形式は映画レビューで使われている語彙数（10,000語）\n",
        "vocab_size = 10000\n",
        "\n",
        "model = keras.Sequential()\n",
        "model.add(keras.layers.Embedding(vocab_size, 16))\n",
        "model.add(keras.layers.GlobalAveragePooling1D())\n",
        "model.add(keras.layers.Dense(16, activation=tf.nn.relu))\n",
        "model.add(keras.layers.Dense(1, activation=tf.nn.sigmoid))\n",
        "\n",
        "model.summary()"
      ],
      "execution_count": 0,
      "outputs": [
        {
          "output_type": "stream",
          "text": [
            "WARNING: Logging before flag parsing goes to stderr.\n",
            "W0601 09:11:40.709632 139884756825984 deprecation.py:506] From /usr/local/lib/python3.6/dist-packages/tensorflow/python/keras/initializers.py:119: calling RandomUniform.__init__ (from tensorflow.python.ops.init_ops) with dtype is deprecated and will be removed in a future version.\n",
            "Instructions for updating:\n",
            "Call initializer instance with the dtype argument instead of passing it to the constructor\n"
          ],
          "name": "stderr"
        },
        {
          "output_type": "stream",
          "text": [
            "Model: \"sequential\"\n",
            "_________________________________________________________________\n",
            "Layer (type)                 Output Shape              Param #   \n",
            "=================================================================\n",
            "embedding (Embedding)        (None, None, 16)          160000    \n",
            "_________________________________________________________________\n",
            "global_average_pooling1d (Gl (None, 16)                0         \n",
            "_________________________________________________________________\n",
            "dense (Dense)                (None, 16)                272       \n",
            "_________________________________________________________________\n",
            "dense_1 (Dense)              (None, 1)                 17        \n",
            "=================================================================\n",
            "Total params: 160,289\n",
            "Trainable params: 160,289\n",
            "Non-trainable params: 0\n",
            "_________________________________________________________________\n"
          ],
          "name": "stdout"
        }
      ]
    },
    {
      "cell_type": "code",
      "metadata": {
        "id": "YFl9AJrvTzwZ",
        "colab_type": "code",
        "outputId": "a9c4ba48-0f2f-4f43-80e3-77887afc8496",
        "colab": {
          "base_uri": "https://localhost:8080/",
          "height": 87
        }
      },
      "source": [
        "model.compile(optimizer=tf.keras.optimizers.Adam(),\n",
        "              loss='binary_crossentropy',\n",
        "              metrics=['accuracy'])"
      ],
      "execution_count": 0,
      "outputs": [
        {
          "output_type": "stream",
          "text": [
            "W0601 09:12:03.351625 139884756825984 deprecation.py:323] From /usr/local/lib/python3.6/dist-packages/tensorflow/python/ops/nn_impl.py:180: add_dispatch_support.<locals>.wrapper (from tensorflow.python.ops.array_ops) is deprecated and will be removed in a future version.\n",
            "Instructions for updating:\n",
            "Use tf.where in 2.0, which has the same broadcast rule as np.where\n"
          ],
          "name": "stderr"
        }
      ]
    },
    {
      "cell_type": "code",
      "metadata": {
        "id": "FfD6veoYT8ap",
        "colab_type": "code",
        "colab": {}
      },
      "source": [
        "x_val = train_data[:10000]\n",
        "partial_x_train = train_data[10000:]\n",
        "\n",
        "y_val = train_labels[:10000]\n",
        "partial_y_train = train_labels[10000:]"
      ],
      "execution_count": 0,
      "outputs": []
    },
    {
      "cell_type": "code",
      "metadata": {
        "id": "UUJk8b_xUAty",
        "colab_type": "code",
        "outputId": "14393405-8e1a-401c-e0c4-dff1e3e0b0a1",
        "colab": {
          "base_uri": "https://localhost:8080/",
          "height": 1398
        }
      },
      "source": [
        "history = model.fit(partial_x_train,\n",
        "                    partial_y_train,\n",
        "                    epochs=40,\n",
        "                    batch_size=512,\n",
        "                    validation_data=(x_val, y_val),\n",
        "                    verbose=1)"
      ],
      "execution_count": 0,
      "outputs": [
        {
          "output_type": "stream",
          "text": [
            "Train on 15000 samples, validate on 10000 samples\n",
            "Epoch 1/40\n",
            "15000/15000 [==============================] - 1s 59us/sample - loss: 0.6923 - acc: 0.5950 - val_loss: 0.6909 - val_acc: 0.6770\n",
            "Epoch 2/40\n",
            "15000/15000 [==============================] - 1s 48us/sample - loss: 0.6883 - acc: 0.7262 - val_loss: 0.6851 - val_acc: 0.7495\n",
            "Epoch 3/40\n",
            "15000/15000 [==============================] - 1s 44us/sample - loss: 0.6782 - acc: 0.7657 - val_loss: 0.6711 - val_acc: 0.7582\n",
            "Epoch 4/40\n",
            "15000/15000 [==============================] - 1s 45us/sample - loss: 0.6583 - acc: 0.7605 - val_loss: 0.6482 - val_acc: 0.7526\n",
            "Epoch 5/40\n",
            "15000/15000 [==============================] - 1s 43us/sample - loss: 0.6287 - acc: 0.7874 - val_loss: 0.6169 - val_acc: 0.7765\n",
            "Epoch 6/40\n",
            "15000/15000 [==============================] - 1s 47us/sample - loss: 0.5905 - acc: 0.8051 - val_loss: 0.5795 - val_acc: 0.7960\n",
            "Epoch 7/40\n",
            "15000/15000 [==============================] - 1s 45us/sample - loss: 0.5468 - acc: 0.8199 - val_loss: 0.5380 - val_acc: 0.8115\n",
            "Epoch 8/40\n",
            "15000/15000 [==============================] - 1s 43us/sample - loss: 0.5018 - acc: 0.8381 - val_loss: 0.4985 - val_acc: 0.8249\n",
            "Epoch 9/40\n",
            "15000/15000 [==============================] - 1s 46us/sample - loss: 0.4588 - acc: 0.8519 - val_loss: 0.4615 - val_acc: 0.8371\n",
            "Epoch 10/40\n",
            "15000/15000 [==============================] - 1s 47us/sample - loss: 0.4198 - acc: 0.8655 - val_loss: 0.4299 - val_acc: 0.8460\n",
            "Epoch 11/40\n",
            "15000/15000 [==============================] - 1s 46us/sample - loss: 0.3860 - acc: 0.8753 - val_loss: 0.4032 - val_acc: 0.8535\n",
            "Epoch 12/40\n",
            "15000/15000 [==============================] - 1s 47us/sample - loss: 0.3571 - acc: 0.8838 - val_loss: 0.3824 - val_acc: 0.8566\n",
            "Epoch 13/40\n",
            "15000/15000 [==============================] - 1s 45us/sample - loss: 0.3334 - acc: 0.8897 - val_loss: 0.3634 - val_acc: 0.8629\n",
            "Epoch 14/40\n",
            "15000/15000 [==============================] - 1s 45us/sample - loss: 0.3120 - acc: 0.8951 - val_loss: 0.3496 - val_acc: 0.8675\n",
            "Epoch 15/40\n",
            "15000/15000 [==============================] - 1s 48us/sample - loss: 0.2942 - acc: 0.8991 - val_loss: 0.3378 - val_acc: 0.8697\n",
            "Epoch 16/40\n",
            "15000/15000 [==============================] - 1s 46us/sample - loss: 0.2782 - acc: 0.9046 - val_loss: 0.3281 - val_acc: 0.8726\n",
            "Epoch 17/40\n",
            "15000/15000 [==============================] - 1s 47us/sample - loss: 0.2636 - acc: 0.9099 - val_loss: 0.3200 - val_acc: 0.8749\n",
            "Epoch 18/40\n",
            "15000/15000 [==============================] - 1s 47us/sample - loss: 0.2507 - acc: 0.9137 - val_loss: 0.3127 - val_acc: 0.8783\n",
            "Epoch 19/40\n",
            "15000/15000 [==============================] - 1s 45us/sample - loss: 0.2391 - acc: 0.9180 - val_loss: 0.3067 - val_acc: 0.8787\n",
            "Epoch 20/40\n",
            "15000/15000 [==============================] - 1s 46us/sample - loss: 0.2286 - acc: 0.9210 - val_loss: 0.3025 - val_acc: 0.8795\n",
            "Epoch 21/40\n",
            "15000/15000 [==============================] - 1s 47us/sample - loss: 0.2182 - acc: 0.9260 - val_loss: 0.2986 - val_acc: 0.8793\n",
            "Epoch 22/40\n",
            "15000/15000 [==============================] - 1s 45us/sample - loss: 0.2092 - acc: 0.9275 - val_loss: 0.2950 - val_acc: 0.8833\n",
            "Epoch 23/40\n",
            "15000/15000 [==============================] - 1s 46us/sample - loss: 0.2003 - acc: 0.9308 - val_loss: 0.2931 - val_acc: 0.8820\n",
            "Epoch 24/40\n",
            "15000/15000 [==============================] - 1s 46us/sample - loss: 0.1925 - acc: 0.9350 - val_loss: 0.2904 - val_acc: 0.8831\n",
            "Epoch 25/40\n",
            "15000/15000 [==============================] - 1s 46us/sample - loss: 0.1845 - acc: 0.9389 - val_loss: 0.2882 - val_acc: 0.8842\n",
            "Epoch 26/40\n",
            "15000/15000 [==============================] - 1s 45us/sample - loss: 0.1775 - acc: 0.9419 - val_loss: 0.2878 - val_acc: 0.8836\n",
            "Epoch 27/40\n",
            "15000/15000 [==============================] - 1s 47us/sample - loss: 0.1707 - acc: 0.9456 - val_loss: 0.2866 - val_acc: 0.8844\n",
            "Epoch 28/40\n",
            "15000/15000 [==============================] - 1s 46us/sample - loss: 0.1643 - acc: 0.9481 - val_loss: 0.2860 - val_acc: 0.8847\n",
            "Epoch 29/40\n",
            "15000/15000 [==============================] - 1s 46us/sample - loss: 0.1587 - acc: 0.9504 - val_loss: 0.2867 - val_acc: 0.8837\n",
            "Epoch 30/40\n",
            "15000/15000 [==============================] - 1s 46us/sample - loss: 0.1528 - acc: 0.9523 - val_loss: 0.2856 - val_acc: 0.8848\n",
            "Epoch 31/40\n",
            "15000/15000 [==============================] - 1s 45us/sample - loss: 0.1469 - acc: 0.9557 - val_loss: 0.2859 - val_acc: 0.8858\n",
            "Epoch 32/40\n",
            "15000/15000 [==============================] - 1s 47us/sample - loss: 0.1415 - acc: 0.9579 - val_loss: 0.2866 - val_acc: 0.8854\n",
            "Epoch 33/40\n",
            "15000/15000 [==============================] - 1s 47us/sample - loss: 0.1362 - acc: 0.9589 - val_loss: 0.2880 - val_acc: 0.8856\n",
            "Epoch 34/40\n",
            "15000/15000 [==============================] - 1s 45us/sample - loss: 0.1316 - acc: 0.9615 - val_loss: 0.2891 - val_acc: 0.8859\n",
            "Epoch 35/40\n",
            "15000/15000 [==============================] - 1s 48us/sample - loss: 0.1274 - acc: 0.9623 - val_loss: 0.2907 - val_acc: 0.8865\n",
            "Epoch 36/40\n",
            "15000/15000 [==============================] - 1s 46us/sample - loss: 0.1226 - acc: 0.9645 - val_loss: 0.2921 - val_acc: 0.8860\n",
            "Epoch 37/40\n",
            "15000/15000 [==============================] - 1s 44us/sample - loss: 0.1181 - acc: 0.9666 - val_loss: 0.2939 - val_acc: 0.8857\n",
            "Epoch 38/40\n",
            "15000/15000 [==============================] - 1s 45us/sample - loss: 0.1140 - acc: 0.9681 - val_loss: 0.2965 - val_acc: 0.8842\n",
            "Epoch 39/40\n",
            "15000/15000 [==============================] - 1s 47us/sample - loss: 0.1106 - acc: 0.9693 - val_loss: 0.2989 - val_acc: 0.8842\n",
            "Epoch 40/40\n",
            "15000/15000 [==============================] - 1s 45us/sample - loss: 0.1065 - acc: 0.9710 - val_loss: 0.3008 - val_acc: 0.8841\n"
          ],
          "name": "stdout"
        }
      ]
    },
    {
      "cell_type": "code",
      "metadata": {
        "id": "tTmlEsQaUK-h",
        "colab_type": "code",
        "outputId": "27d2eba1-70db-46f8-e687-e10629079d7e",
        "colab": {
          "base_uri": "https://localhost:8080/",
          "height": 50
        }
      },
      "source": [
        "results = model.evaluate(test_data, test_labels)\n",
        "\n",
        "print(results)"
      ],
      "execution_count": 0,
      "outputs": [
        {
          "output_type": "stream",
          "text": [
            "25000/25000 [==============================] - 1s 32us/sample - loss: 0.3202 - acc: 0.8730\n",
            "[0.32018943845748904, 0.87304]\n"
          ],
          "name": "stdout"
        }
      ]
    },
    {
      "cell_type": "code",
      "metadata": {
        "id": "fjAHad9eUTtJ",
        "colab_type": "code",
        "colab": {}
      },
      "source": [
        "# この、かなり素朴なアプローチでも87%前後の正解率を達成しました。\n",
        "# もっと高度なアプローチを使えば、モデルの正解率は95%に近づけることもできるでしょう。"
      ],
      "execution_count": 0,
      "outputs": []
    }
  ]
}