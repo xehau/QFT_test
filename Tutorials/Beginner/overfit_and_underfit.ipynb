{
  "nbformat": 4,
  "nbformat_minor": 0,
  "metadata": {
    "accelerator": "GPU",
    "colab": {
      "name": "overfit_and_underfit.ipynb",
      "provenance": [],
      "collapsed_sections": [
        "fTFj8ft5dlbS"
      ],
      "toc_visible": true,
      "include_colab_link": true
    },
    "kernelspec": {
      "display_name": "Python 3",
      "name": "python3"
    }
  },
  "cells": [
    {
      "cell_type": "markdown",
      "metadata": {
        "id": "view-in-github",
        "colab_type": "text"
      },
      "source": [
        "<a href=\"https://colab.research.google.com/github/xehau/xehau_lessons/blob/master/overfit_and_underfit.ipynb\" target=\"_parent\"><img src=\"https://colab.research.google.com/assets/colab-badge.svg\" alt=\"Open In Colab\"/></a>"
      ]
    },
    {
      "cell_type": "markdown",
      "metadata": {
        "id": "fTFj8ft5dlbS"
      },
      "source": [
        "##### Copyright 2018 The TensorFlow Authors."
      ]
    },
    {
      "cell_type": "code",
      "metadata": {
        "cellView": "form",
        "id": "lzyBOpYMdp3F"
      },
      "source": [
        "#@title Licensed under the Apache License, Version 2.0 (the \"License\");\n",
        "# you may not use this file except in compliance with the License.\n",
        "# You may obtain a copy of the License at\n",
        "#\n",
        "# https://www.apache.org/licenses/LICENSE-2.0\n",
        "#\n",
        "# Unless required by applicable law or agreed to in writing, software\n",
        "# distributed under the License is distributed on an \"AS IS\" BASIS,\n",
        "# WITHOUT WARRANTIES OR CONDITIONS OF ANY KIND, either express or implied.\n",
        "# See the License for the specific language governing permissions and\n",
        "# limitations under the License."
      ],
      "execution_count": null,
      "outputs": []
    },
    {
      "cell_type": "code",
      "metadata": {
        "cellView": "form",
        "id": "m_x4KfSJ7Vt7"
      },
      "source": [
        "#@title MIT License\n",
        "#\n",
        "# Copyright (c) 2017 François Chollet\n",
        "#\n",
        "# Permission is hereby granted, free of charge, to any person obtaining a\n",
        "# copy of this software and associated documentation files (the \"Software\"),\n",
        "# to deal in the Software without restriction, including without limitation\n",
        "# the rights to use, copy, modify, merge, publish, distribute, sublicense,\n",
        "# and/or sell copies of the Software, and to permit persons to whom the\n",
        "# Software is furnished to do so, subject to the following conditions:\n",
        "#\n",
        "# The above copyright notice and this permission notice shall be included in\n",
        "# all copies or substantial portions of the Software.\n",
        "#\n",
        "# THE SOFTWARE IS PROVIDED \"AS IS\", WITHOUT WARRANTY OF ANY KIND, EXPRESS OR\n",
        "# IMPLIED, INCLUDING BUT NOT LIMITED TO THE WARRANTIES OF MERCHANTABILITY,\n",
        "# FITNESS FOR A PARTICULAR PURPOSE AND NONINFRINGEMENT. IN NO EVENT SHALL\n",
        "# THE AUTHORS OR COPYRIGHT HOLDERS BE LIABLE FOR ANY CLAIM, DAMAGES OR OTHER\n",
        "# LIABILITY, WHETHER IN AN ACTION OF CONTRACT, TORT OR OTHERWISE, ARISING\n",
        "# FROM, OUT OF OR IN CONNECTION WITH THE SOFTWARE OR THE USE OR OTHER\n",
        "# DEALINGS IN THE SOFTWARE."
      ],
      "execution_count": null,
      "outputs": []
    },
    {
      "cell_type": "markdown",
      "metadata": {
        "id": "C9HmC2T4ld5B"
      },
      "source": [
        "# 過学習と学習不足について知る"
      ]
    },
    {
      "cell_type": "markdown",
      "metadata": {
        "id": "kRTxFhXAlnl1"
      },
      "source": [
        "<table class=\"tfo-notebook-buttons\" align=\"left\">\n",
        "  <td>\n",
        "    <a target=\"_blank\" href=\"https://www.tensorflow.org/tutorials/keras/overfit_and_underfit\"><img src=\"https://www.tensorflow.org/images/tf_logo_32px.png\" />View on TensorFlow.org</a>\n",
        "  </td>\n",
        "  <td>\n",
        "    <a target=\"_blank\" href=\"https://colab.research.google.com/github/tensorflow/docs-l10n/blob/master/site/ja/tutorials/keras/overfit_and_underfit.ipynb\"><img src=\"https://www.tensorflow.org/images/colab_logo_32px.png\" />Run in Google Colab</a>\n",
        "  </td>\n",
        "  <td>\n",
        "    <a target=\"_blank\" href=\"https://github.com/tensorflow/docs-l10n/blob/master/site/ja/tutorials/keras/overfit_and_underfit.ipynb\"><img src=\"https://www.tensorflow.org/images/GitHub-Mark-32px.png\" />View source on GitHub</a>\n",
        "  </td>\n",
        "  <td>\n",
        "    <a href=\"https://storage.googleapis.com/tensorflow_docs/docs-l10n/site/ja/tutorials/keras/overfit_and_underfit.ipynb\"><img src=\"https://www.tensorflow.org/images/download_logo_32px.png\" />Download notebook</a>\n",
        "  </td>\n",
        "</table>"
      ]
    },
    {
      "cell_type": "markdown",
      "metadata": {
        "id": "a0tw3CshaVrH"
      },
      "source": [
        "Note: これらのドキュメントは私たちTensorFlowコミュニティが翻訳したものです。コミュニティによる 翻訳は**ベストエフォート**であるため、この翻訳が正確であることや[英語の公式ドキュメント](https://www.tensorflow.org/?hl=en)の 最新の状態を反映したものであることを保証することはできません。 この翻訳の品質を向上させるためのご意見をお持ちの方は、GitHubリポジトリ[tensorflow/docs](https://github.com/tensorflow/docs)にプルリクエストをお送りください。 コミュニティによる翻訳やレビューに参加していただける方は、 [docs-ja@tensorflow.org メーリングリスト](https://groups.google.com/a/tensorflow.org/forum/#!forum/docs-ja)にご連絡ください。"
      ]
    },
    {
      "cell_type": "markdown",
      "metadata": {
        "id": "19rPukKZsPG6"
      },
      "source": [
        "いつものように、この例のプログラムは`tf.keras` APIを使用します。詳しくはTensorFlowの[Keras guide](https://www.tensorflow.org/guide/keras)を参照してください。\n",
        "\n",
        "これまでの例、つまり、映画レビューの分類と燃費の推定では、検証用データでのモデルの正解率が、数エポックでピークを迎え、その後低下するという現象が見られました。\n",
        "\n",
        "言い換えると、モデルが訓練用データを**過学習**したと考えられます。過学習への対処の仕方を学ぶことは重要です。**訓練用データセット**で高い正解率を達成することは難しくありませんが、我々は、（これまで見たこともない）**テスト用データ**に汎化したモデルを開発したいのです。\n",
        "\n",
        "過学習の反対語は**学習不足**(underfitting)です。学習不足は、モデルがテストデータに対してまだ改善の余地がある場合に発生します。学習不足の原因は様々です。モデルが十分強力でないとか、正則化のしすぎだとか、単に訓練時間が短すぎるといった理由があります。学習不足は、訓練用データの中の関連したパターンを学習しきっていないということを意味します。\n",
        "\n",
        "モデルの訓練をやりすぎると、モデルは過学習を始め、訓練用データの中のパターンで、テストデータには一般的ではないパターンを学習します。我々は、過学習と学習不足の中間を目指す必要があります。これから見ていくように、ちょうどよいエポック数だけ訓練を行うというのは必要なスキルなのです。\n",
        "\n",
        "過学習を防止するための、最良の解決策は、より多くの訓練用データを使うことです。多くのデータで訓練を行えば行うほど、モデルは自然により汎化していく様になります。これが不可能な場合、次善の策は正則化のようなテクニックを使うことです。正則化は、モデルに保存される情報の量とタイプに制約を課すものです。ネットワークが少数のパターンしか記憶できなければ、最適化プロセスにより、最も主要なパターンのみを学習することになり、より汎化される可能性が高くなります。\n",
        "\n",
        "このノートブックでは、重みの正則化とドロップアウトという、よく使われる2つの正則化テクニックをご紹介します。これらを使って、IMDBの映画レビューを分類するノートブックの改善を図ります。"
      ]
    },
    {
      "cell_type": "code",
      "metadata": {
        "id": "5pZ8A2liqvgk",
        "colab": {
          "base_uri": "https://localhost:8080/"
        },
        "outputId": "7b9aac58-4f16-4241-cc1e-a0fc9d6e0c75"
      },
      "source": [
        "import tensorflow as tf\n",
        "from tensorflow import keras\n",
        "\n",
        "import numpy as np\n",
        "import matplotlib.pyplot as plt\n",
        "\n",
        "print(tf.__version__)"
      ],
      "execution_count": null,
      "outputs": [
        {
          "output_type": "stream",
          "text": [
            "2.4.1\n"
          ],
          "name": "stdout"
        }
      ]
    },
    {
      "cell_type": "markdown",
      "metadata": {
        "id": "1cweoTiruj8O"
      },
      "source": [
        "## IMDBデータセットのダウンロード\n",
        "\n",
        "以前のノートブックで使用したエンベディングの代わりに、ここでは文をマルチホットエンコードします。このモデルは、訓練用データセットをすぐに過学習します。このモデルを使って、過学習がいつ起きるかということと、どうやって過学習と戦うかをデモします。\n",
        "\n",
        "リストをマルチホットエンコードすると言うのは、0と1のベクトルにするということです。具体的にいうと、例えば`[3, 5]`というシーケンスを、インデックス3と5の値が1で、それ以外がすべて0の、10,000次元のベクトルに変換するということを意味します。"
      ]
    },
    {
      "cell_type": "code",
      "metadata": {
        "id": "QpzE4iqZtJly",
        "colab": {
          "base_uri": "https://localhost:8080/"
        },
        "outputId": "a7acc3a0-1c03-4b29-ba95-9af7aa62a66d"
      },
      "source": [
        "NUM_WORDS = 10000\n",
        "\n",
        "(train_data, train_labels), (test_data, test_labels) = keras.datasets.imdb.load_data(num_words=NUM_WORDS)\n",
        "\n",
        "def multi_hot_sequences(sequences, dimension):\n",
        "    # 形状が (len(sequences), dimension)ですべて0の行列を作る\n",
        "    results = np.zeros((len(sequences), dimension))\n",
        "    for i, word_indices in enumerate(sequences):\n",
        "        results[i, word_indices] = 1.0  # 特定のインデックスに対してresults[i] を１に設定する\n",
        "    return results\n",
        "\n",
        "\n",
        "train_data = multi_hot_sequences(train_data, dimension=NUM_WORDS)\n",
        "test_data = multi_hot_sequences(test_data, dimension=NUM_WORDS)"
      ],
      "execution_count": null,
      "outputs": [
        {
          "output_type": "stream",
          "text": [
            "Downloading data from https://storage.googleapis.com/tensorflow/tf-keras-datasets/imdb.npz\n",
            "17465344/17464789 [==============================] - 0s 0us/step\n"
          ],
          "name": "stdout"
        },
        {
          "output_type": "stream",
          "text": [
            "<string>:6: VisibleDeprecationWarning: Creating an ndarray from ragged nested sequences (which is a list-or-tuple of lists-or-tuples-or ndarrays with different lengths or shapes) is deprecated. If you meant to do this, you must specify 'dtype=object' when creating the ndarray\n",
            "/usr/local/lib/python3.7/dist-packages/tensorflow/python/keras/datasets/imdb.py:159: VisibleDeprecationWarning: Creating an ndarray from ragged nested sequences (which is a list-or-tuple of lists-or-tuples-or ndarrays with different lengths or shapes) is deprecated. If you meant to do this, you must specify 'dtype=object' when creating the ndarray\n",
            "  x_train, y_train = np.array(xs[:idx]), np.array(labels[:idx])\n",
            "/usr/local/lib/python3.7/dist-packages/tensorflow/python/keras/datasets/imdb.py:160: VisibleDeprecationWarning: Creating an ndarray from ragged nested sequences (which is a list-or-tuple of lists-or-tuples-or ndarrays with different lengths or shapes) is deprecated. If you meant to do this, you must specify 'dtype=object' when creating the ndarray\n",
            "  x_test, y_test = np.array(xs[idx:]), np.array(labels[idx:])\n"
          ],
          "name": "stderr"
        }
      ]
    },
    {
      "cell_type": "markdown",
      "metadata": {
        "id": "MzWVeXe3NBTn"
      },
      "source": [
        "結果として得られるマルチホットベクトルの1つを見てみましょう。単語のインデックスは頻度順にソートされています。このため、インデックスが0に近いほど１が多く出現するはずです。分布を見てみましょう。"
      ]
    },
    {
      "cell_type": "code",
      "metadata": {
        "id": "71kr5rG4LkGM",
        "colab": {
          "base_uri": "https://localhost:8080/",
          "height": 282
        },
        "outputId": "04443d78-f9cf-488c-a0c6-e4d6dde88959"
      },
      "source": [
        "plt.plot(train_data[0])"
      ],
      "execution_count": null,
      "outputs": [
        {
          "output_type": "execute_result",
          "data": {
            "text/plain": [
              "[<matplotlib.lines.Line2D at 0x7f67d8ddd650>]"
            ]
          },
          "metadata": {
            "tags": []
          },
          "execution_count": 5
        },
        {
          "output_type": "display_data",
          "data": {
            "image/png": "[encoded data removed]",
            "text/plain": [
              "<Figure size 432x288 with 1 Axes>"
            ]
          },
          "metadata": {
            "tags": [],
            "needs_background": "light"
          }
        }
      ]
    },
    {
      "cell_type": "markdown",
      "metadata": {
        "id": "lglk41MwvU5o"
      },
      "source": [
        "## 過学習のデモ\n",
        "\n",
        "過学習を防止するための最も単純な方法は、モデルのサイズ、すなわち、モデル内の学習可能なパラメータの数を小さくすることです（学習パラメータの数は、層の数と層ごとのユニット数で決まります）。ディープラーニングでは、モデルの学習可能なパラメータ数を、しばしばモデルの「キャパシティ」と呼びます。直感的に考えれば、パラメータ数の多いモデルほど「記憶容量」が大きくなり、訓練用のサンプルとその目的変数の間の辞書のようなマッピングをたやすく学習することができます。このマッピングには汎化能力がまったくなく、これまで見たことが無いデータを使って予測をする際には役に立ちません。\n",
        "\n",
        "ディープラーニングのモデルは訓練用データに適応しやすいけれど、本当のチャレレンジは汎化であって適応ではないということを、肝に銘じておく必要があります。\n",
        "\n",
        "一方、ネットワークの記憶容量が限られている場合、前述のようなマッピングを簡単に学習することはできません。損失を減らすためには、より予測能力が高い圧縮された表現を学習しなければなりません。同時に、モデルを小さくしすぎると、訓練用データに適応するのが難しくなります。「多すぎる容量」と「容量不足」の間にちょうどよい容量があるのです。\n",
        "\n",
        "残念ながら、（層の数や、層ごとの大きさといった）モデルの適切なサイズやアーキテクチャを決める魔法の方程式はありません。一連の異なるアーキテクチャを使って実験を行う必要があります。\n",
        "\n",
        "適切なモデルのサイズを見つけるには、比較的少ない層の数とパラメータから始めるのがベストです。それから、検証用データでの損失値の改善が見られなくなるまで、徐々に層の大きさを増やしたり、新たな層を加えたりします。映画レビューの分類ネットワークでこれを試してみましょう。\n",
        "\n",
        "比較基準として、```Dense```層だけを使ったシンプルなモデルを構築し、その後、それより小さいバージョンと大きいバージョンを作って比較します。"
      ]
    },
    {
      "cell_type": "markdown",
      "metadata": {
        "id": "_ReKHdC2EgVu"
      },
      "source": [
        "### 比較基準を作る"
      ]
    },
    {
      "cell_type": "code",
      "metadata": {
        "id": "QKgdXPx9usBa",
        "colab": {
          "base_uri": "https://localhost:8080/"
        },
        "outputId": "ed6aa729-1deb-45f4-a66e-c2d8b59e5aa5"
      },
      "source": [
        "baseline_model = keras.Sequential([\n",
        "    # `.summary` を見るために`input_shape`が必要 \n",
        "    keras.layers.Dense(16, activation='relu', input_shape=(NUM_WORDS,)),\n",
        "    keras.layers.Dense(16, activation='relu'),\n",
        "    keras.layers.Dense(1, activation='sigmoid')\n",
        "])\n",
        "\n",
        "baseline_model.compile(optimizer='adam',\n",
        "                       loss='binary_crossentropy',\n",
        "                       metrics=['accuracy', 'binary_crossentropy'])\n",
        "\n",
        "baseline_model.summary()"
      ],
      "execution_count": null,
      "outputs": [
        {
          "output_type": "stream",
          "text": [
            "Model: \"sequential\"\n",
            "_________________________________________________________________\n",
            "Layer (type)                 Output Shape              Param #   \n",
            "=================================================================\n",
            "dense (Dense)                (None, 16)                160016    \n",
            "_________________________________________________________________\n",
            "dense_1 (Dense)              (None, 16)                272       \n",
            "_________________________________________________________________\n",
            "dense_2 (Dense)              (None, 1)                 17        \n",
            "=================================================================\n",
            "Total params: 160,305\n",
            "Trainable params: 160,305\n",
            "Non-trainable params: 0\n",
            "_________________________________________________________________\n"
          ],
          "name": "stdout"
        }
      ]
    },
    {
      "cell_type": "code",
      "metadata": {
        "id": "LqG3MXF5xSjR",
        "colab": {
          "base_uri": "https://localhost:8080/"
        },
        "outputId": "b304c8a8-4d1b-4bad-adc2-a51c5b850845"
      },
      "source": [
        "baseline_history = baseline_model.fit(train_data,\n",
        "                                      train_labels,\n",
        "                                      epochs=20,\n",
        "                                      batch_size=512,\n",
        "                                      validation_data=(test_data, test_labels),\n",
        "                                      verbose=2)"
      ],
      "execution_count": null,
      "outputs": [
        {
          "output_type": "stream",
          "text": [
            "Epoch 1/20\n",
            "49/49 - 5s - loss: 0.4707 - accuracy: 0.8046 - binary_crossentropy: 0.4707 - val_loss: 0.3303 - val_accuracy: 0.8818 - val_binary_crossentropy: 0.3303\n",
            "Epoch 2/20\n",
            "49/49 - 1s - loss: 0.2422 - accuracy: 0.9184 - binary_crossentropy: 0.2422 - val_loss: 0.2890 - val_accuracy: 0.8852 - val_binary_crossentropy: 0.2890\n",
            "Epoch 3/20\n",
            "49/49 - 1s - loss: 0.1752 - accuracy: 0.9418 - binary_crossentropy: 0.1752 - val_loss: 0.2960 - val_accuracy: 0.8826 - val_binary_crossentropy: 0.2960\n",
            "Epoch 4/20\n",
            "49/49 - 1s - loss: 0.1419 - accuracy: 0.9541 - binary_crossentropy: 0.1419 - val_loss: 0.3195 - val_accuracy: 0.8785 - val_binary_crossentropy: 0.3195\n",
            "Epoch 5/20\n",
            "49/49 - 1s - loss: 0.1155 - accuracy: 0.9634 - binary_crossentropy: 0.1155 - val_loss: 0.3601 - val_accuracy: 0.8688 - val_binary_crossentropy: 0.3601\n",
            "Epoch 6/20\n",
            "49/49 - 1s - loss: 0.0965 - accuracy: 0.9709 - binary_crossentropy: 0.0965 - val_loss: 0.3814 - val_accuracy: 0.8692 - val_binary_crossentropy: 0.3814\n",
            "Epoch 7/20\n",
            "49/49 - 1s - loss: 0.0791 - accuracy: 0.9782 - binary_crossentropy: 0.0791 - val_loss: 0.4182 - val_accuracy: 0.8649 - val_binary_crossentropy: 0.4182\n",
            "Epoch 8/20\n",
            "49/49 - 1s - loss: 0.0657 - accuracy: 0.9843 - binary_crossentropy: 0.0657 - val_loss: 0.4724 - val_accuracy: 0.8588 - val_binary_crossentropy: 0.4724\n",
            "Epoch 9/20\n",
            "49/49 - 1s - loss: 0.0534 - accuracy: 0.9887 - binary_crossentropy: 0.0534 - val_loss: 0.4993 - val_accuracy: 0.8586 - val_binary_crossentropy: 0.4993\n",
            "Epoch 10/20\n",
            "49/49 - 1s - loss: 0.0425 - accuracy: 0.9923 - binary_crossentropy: 0.0425 - val_loss: 0.5446 - val_accuracy: 0.8572 - val_binary_crossentropy: 0.5446\n",
            "Epoch 11/20\n",
            "49/49 - 1s - loss: 0.0347 - accuracy: 0.9944 - binary_crossentropy: 0.0347 - val_loss: 0.5964 - val_accuracy: 0.8545 - val_binary_crossentropy: 0.5964\n",
            "Epoch 12/20\n",
            "49/49 - 1s - loss: 0.0278 - accuracy: 0.9959 - binary_crossentropy: 0.0278 - val_loss: 0.6227 - val_accuracy: 0.8538 - val_binary_crossentropy: 0.6227\n",
            "Epoch 13/20\n",
            "49/49 - 1s - loss: 0.0220 - accuracy: 0.9977 - binary_crossentropy: 0.0220 - val_loss: 0.6554 - val_accuracy: 0.8534 - val_binary_crossentropy: 0.6554\n",
            "Epoch 14/20\n",
            "49/49 - 1s - loss: 0.0176 - accuracy: 0.9982 - binary_crossentropy: 0.0176 - val_loss: 0.6919 - val_accuracy: 0.8516 - val_binary_crossentropy: 0.6919\n",
            "Epoch 15/20\n",
            "49/49 - 1s - loss: 0.0140 - accuracy: 0.9987 - binary_crossentropy: 0.0140 - val_loss: 0.7335 - val_accuracy: 0.8516 - val_binary_crossentropy: 0.7335\n",
            "Epoch 16/20\n",
            "49/49 - 1s - loss: 0.0114 - accuracy: 0.9990 - binary_crossentropy: 0.0114 - val_loss: 0.7524 - val_accuracy: 0.8521 - val_binary_crossentropy: 0.7524\n",
            "Epoch 17/20\n",
            "49/49 - 1s - loss: 0.0096 - accuracy: 0.9990 - binary_crossentropy: 0.0096 - val_loss: 0.7803 - val_accuracy: 0.8509 - val_binary_crossentropy: 0.7803\n",
            "Epoch 18/20\n",
            "49/49 - 1s - loss: 0.0078 - accuracy: 0.9992 - binary_crossentropy: 0.0078 - val_loss: 0.8069 - val_accuracy: 0.8511 - val_binary_crossentropy: 0.8069\n",
            "Epoch 19/20\n",
            "49/49 - 1s - loss: 0.0066 - accuracy: 0.9994 - binary_crossentropy: 0.0066 - val_loss: 0.8279 - val_accuracy: 0.8510 - val_binary_crossentropy: 0.8279\n",
            "Epoch 20/20\n",
            "49/49 - 1s - loss: 0.0055 - accuracy: 0.9994 - binary_crossentropy: 0.0055 - val_loss: 0.8462 - val_accuracy: 0.8512 - val_binary_crossentropy: 0.8462\n"
          ],
          "name": "stdout"
        }
      ]
    },
    {
      "cell_type": "markdown",
      "metadata": {
        "id": "L-DGRBbGxI6G"
      },
      "source": [
        "### より小さいモデルの構築"
      ]
    },
    {
      "cell_type": "markdown",
      "metadata": {
        "id": "SrfoVQheYSO5"
      },
      "source": [
        "今作成したばかりの比較基準となるモデルに比べて隠れユニット数が少ないモデルを作りましょう。"
      ]
    },
    {
      "cell_type": "code",
      "metadata": {
        "id": "jksi-XtaxDAh",
        "colab": {
          "base_uri": "https://localhost:8080/"
        },
        "outputId": "4bd715c7-03e6-46e6-fd45-9a2cd2c635f8"
      },
      "source": [
        "smaller_model = keras.Sequential([\n",
        "    keras.layers.Dense(4, activation='relu', input_shape=(NUM_WORDS,)),\n",
        "    keras.layers.Dense(4, activation='relu'),\n",
        "    keras.layers.Dense(1, activation='sigmoid')\n",
        "])\n",
        "\n",
        "smaller_model.compile(optimizer='adam',\n",
        "                      loss='binary_crossentropy',\n",
        "                      metrics=['accuracy', 'binary_crossentropy'])\n",
        "\n",
        "smaller_model.summary()"
      ],
      "execution_count": null,
      "outputs": [
        {
          "output_type": "stream",
          "text": [
            "Model: \"sequential_1\"\n",
            "_________________________________________________________________\n",
            "Layer (type)                 Output Shape              Param #   \n",
            "=================================================================\n",
            "dense_3 (Dense)              (None, 4)                 40004     \n",
            "_________________________________________________________________\n",
            "dense_4 (Dense)              (None, 4)                 20        \n",
            "_________________________________________________________________\n",
            "dense_5 (Dense)              (None, 1)                 5         \n",
            "=================================================================\n",
            "Total params: 40,029\n",
            "Trainable params: 40,029\n",
            "Non-trainable params: 0\n",
            "_________________________________________________________________\n"
          ],
          "name": "stdout"
        }
      ]
    },
    {
      "cell_type": "markdown",
      "metadata": {
        "id": "jbngCZliYdma"
      },
      "source": [
        "同じデータを使って訓練します。"
      ]
    },
    {
      "cell_type": "code",
      "metadata": {
        "id": "Ofn1AwDhx-Fe",
        "colab": {
          "base_uri": "https://localhost:8080/"
        },
        "outputId": "c5aeab13-2a0f-435a-ed3d-eb3cc88049c0"
      },
      "source": [
        "smaller_history = smaller_model.fit(train_data,\n",
        "                                    train_labels,\n",
        "                                    epochs=20,\n",
        "                                    batch_size=512,\n",
        "                                    validation_data=(test_data, test_labels),\n",
        "                                    verbose=2)"
      ],
      "execution_count": null,
      "outputs": [
        {
          "output_type": "stream",
          "text": [
            "Epoch 1/20\n",
            "49/49 - 2s - loss: 0.5298 - accuracy: 0.7714 - binary_crossentropy: 0.5298 - val_loss: 0.4046 - val_accuracy: 0.8620 - val_binary_crossentropy: 0.4046\n",
            "Epoch 2/20\n",
            "49/49 - 1s - loss: 0.3186 - accuracy: 0.8959 - binary_crossentropy: 0.3186 - val_loss: 0.3227 - val_accuracy: 0.8803 - val_binary_crossentropy: 0.3227\n",
            "Epoch 3/20\n",
            "49/49 - 1s - loss: 0.2461 - accuracy: 0.9183 - binary_crossentropy: 0.2461 - val_loss: 0.2956 - val_accuracy: 0.8850 - val_binary_crossentropy: 0.2956\n",
            "Epoch 4/20\n",
            "49/49 - 1s - loss: 0.2060 - accuracy: 0.9316 - binary_crossentropy: 0.2060 - val_loss: 0.2857 - val_accuracy: 0.8862 - val_binary_crossentropy: 0.2857\n",
            "Epoch 5/20\n",
            "49/49 - 1s - loss: 0.1786 - accuracy: 0.9421 - binary_crossentropy: 0.1786 - val_loss: 0.2852 - val_accuracy: 0.8850 - val_binary_crossentropy: 0.2852\n",
            "Epoch 6/20\n",
            "49/49 - 1s - loss: 0.1578 - accuracy: 0.9498 - binary_crossentropy: 0.1578 - val_loss: 0.2925 - val_accuracy: 0.8822 - val_binary_crossentropy: 0.2925\n",
            "Epoch 7/20\n",
            "49/49 - 1s - loss: 0.1417 - accuracy: 0.9558 - binary_crossentropy: 0.1417 - val_loss: 0.2976 - val_accuracy: 0.8813 - val_binary_crossentropy: 0.2976\n",
            "Epoch 8/20\n",
            "49/49 - 1s - loss: 0.1272 - accuracy: 0.9613 - binary_crossentropy: 0.1272 - val_loss: 0.3116 - val_accuracy: 0.8777 - val_binary_crossentropy: 0.3116\n",
            "Epoch 9/20\n",
            "49/49 - 1s - loss: 0.1149 - accuracy: 0.9651 - binary_crossentropy: 0.1149 - val_loss: 0.3199 - val_accuracy: 0.8768 - val_binary_crossentropy: 0.3199\n",
            "Epoch 10/20\n",
            "49/49 - 1s - loss: 0.1036 - accuracy: 0.9696 - binary_crossentropy: 0.1036 - val_loss: 0.3332 - val_accuracy: 0.8749 - val_binary_crossentropy: 0.3332\n",
            "Epoch 11/20\n",
            "49/49 - 1s - loss: 0.0933 - accuracy: 0.9735 - binary_crossentropy: 0.0933 - val_loss: 0.3483 - val_accuracy: 0.8727 - val_binary_crossentropy: 0.3483\n",
            "Epoch 12/20\n",
            "49/49 - 1s - loss: 0.0838 - accuracy: 0.9773 - binary_crossentropy: 0.0838 - val_loss: 0.3685 - val_accuracy: 0.8692 - val_binary_crossentropy: 0.3685\n",
            "Epoch 13/20\n",
            "49/49 - 1s - loss: 0.0761 - accuracy: 0.9801 - binary_crossentropy: 0.0761 - val_loss: 0.3912 - val_accuracy: 0.8663 - val_binary_crossentropy: 0.3912\n",
            "Epoch 14/20\n",
            "49/49 - 1s - loss: 0.0685 - accuracy: 0.9830 - binary_crossentropy: 0.0685 - val_loss: 0.4048 - val_accuracy: 0.8675 - val_binary_crossentropy: 0.4048\n",
            "Epoch 15/20\n",
            "49/49 - 1s - loss: 0.0603 - accuracy: 0.9867 - binary_crossentropy: 0.0603 - val_loss: 0.4254 - val_accuracy: 0.8665 - val_binary_crossentropy: 0.4254\n",
            "Epoch 16/20\n",
            "49/49 - 1s - loss: 0.0538 - accuracy: 0.9890 - binary_crossentropy: 0.0538 - val_loss: 0.4479 - val_accuracy: 0.8634 - val_binary_crossentropy: 0.4479\n",
            "Epoch 17/20\n",
            "49/49 - 1s - loss: 0.0481 - accuracy: 0.9907 - binary_crossentropy: 0.0481 - val_loss: 0.4654 - val_accuracy: 0.8634 - val_binary_crossentropy: 0.4654\n",
            "Epoch 18/20\n",
            "49/49 - 1s - loss: 0.0424 - accuracy: 0.9924 - binary_crossentropy: 0.0424 - val_loss: 0.4864 - val_accuracy: 0.8624 - val_binary_crossentropy: 0.4864\n",
            "Epoch 19/20\n",
            "49/49 - 1s - loss: 0.0373 - accuracy: 0.9941 - binary_crossentropy: 0.0373 - val_loss: 0.5092 - val_accuracy: 0.8605 - val_binary_crossentropy: 0.5092\n",
            "Epoch 20/20\n",
            "49/49 - 1s - loss: 0.0330 - accuracy: 0.9952 - binary_crossentropy: 0.0330 - val_loss: 0.5299 - val_accuracy: 0.8592 - val_binary_crossentropy: 0.5299\n"
          ],
          "name": "stdout"
        }
      ]
    },
    {
      "cell_type": "markdown",
      "metadata": {
        "id": "vIPuf23FFaVn"
      },
      "source": [
        "### より大きなモデルの構築\n",
        "\n",
        "練習として、より大きなモデルを作成し、どれほど急速に過学習が起きるかを見ることもできます。次はこのベンチマークに、この問題が必要とするよりはるかに容量の大きなネットワークを追加しましょう。"
      ]
    },
    {
      "cell_type": "code",
      "metadata": {
        "id": "ghQwwqwqvQM9",
        "colab": {
          "base_uri": "https://localhost:8080/"
        },
        "outputId": "4a84e82d-8623-45b7-99bf-7e4404dbb2df"
      },
      "source": [
        "bigger_model = keras.models.Sequential([\n",
        "    keras.layers.Dense(512, activation='relu', input_shape=(NUM_WORDS,)),\n",
        "    keras.layers.Dense(512, activation='relu'),\n",
        "    keras.layers.Dense(1, activation='sigmoid')\n",
        "])\n",
        "\n",
        "bigger_model.compile(optimizer='adam',\n",
        "                     loss='binary_crossentropy',\n",
        "                     metrics=['accuracy','binary_crossentropy'])\n",
        "\n",
        "bigger_model.summary()"
      ],
      "execution_count": null,
      "outputs": [
        {
          "output_type": "stream",
          "text": [
            "Model: \"sequential_2\"\n",
            "_________________________________________________________________\n",
            "Layer (type)                 Output Shape              Param #   \n",
            "=================================================================\n",
            "dense_6 (Dense)              (None, 512)               5120512   \n",
            "_________________________________________________________________\n",
            "dense_7 (Dense)              (None, 512)               262656    \n",
            "_________________________________________________________________\n",
            "dense_8 (Dense)              (None, 1)                 513       \n",
            "=================================================================\n",
            "Total params: 5,383,681\n",
            "Trainable params: 5,383,681\n",
            "Non-trainable params: 0\n",
            "_________________________________________________________________\n"
          ],
          "name": "stdout"
        }
      ]
    },
    {
      "cell_type": "markdown",
      "metadata": {
        "id": "D-d-i5DaYmr7"
      },
      "source": [
        "このモデルもまた同じデータを使って訓練します。"
      ]
    },
    {
      "cell_type": "code",
      "metadata": {
        "id": "U1A99dhqvepf",
        "colab": {
          "base_uri": "https://localhost:8080/"
        },
        "outputId": "a5a243d9-0f4b-45e3-c010-c191b1afd248"
      },
      "source": [
        "bigger_history = bigger_model.fit(train_data, train_labels,\n",
        "                                  epochs=20,\n",
        "                                  batch_size=512,\n",
        "                                  validation_data=(test_data, test_labels),\n",
        "                                  verbose=2)"
      ],
      "execution_count": null,
      "outputs": [
        {
          "output_type": "stream",
          "text": [
            "Epoch 1/20\n",
            "49/49 - 2s - loss: 0.3589 - accuracy: 0.8433 - binary_crossentropy: 0.3589 - val_loss: 0.2905 - val_accuracy: 0.8826 - val_binary_crossentropy: 0.2905\n",
            "Epoch 2/20\n",
            "49/49 - 1s - loss: 0.1441 - accuracy: 0.9487 - binary_crossentropy: 0.1441 - val_loss: 0.3182 - val_accuracy: 0.8772 - val_binary_crossentropy: 0.3182\n",
            "Epoch 3/20\n",
            "49/49 - 1s - loss: 0.0475 - accuracy: 0.9871 - binary_crossentropy: 0.0475 - val_loss: 0.4167 - val_accuracy: 0.8707 - val_binary_crossentropy: 0.4167\n",
            "Epoch 4/20\n",
            "49/49 - 1s - loss: 0.0066 - accuracy: 0.9990 - binary_crossentropy: 0.0066 - val_loss: 0.5750 - val_accuracy: 0.8667 - val_binary_crossentropy: 0.5750\n",
            "Epoch 5/20\n",
            "49/49 - 1s - loss: 0.0016 - accuracy: 1.0000 - binary_crossentropy: 0.0016 - val_loss: 0.6754 - val_accuracy: 0.8702 - val_binary_crossentropy: 0.6754\n",
            "Epoch 6/20\n",
            "49/49 - 1s - loss: 2.5973e-04 - accuracy: 1.0000 - binary_crossentropy: 2.5973e-04 - val_loss: 0.7145 - val_accuracy: 0.8723 - val_binary_crossentropy: 0.7145\n",
            "Epoch 7/20\n",
            "49/49 - 1s - loss: 1.4253e-04 - accuracy: 1.0000 - binary_crossentropy: 1.4253e-04 - val_loss: 0.7497 - val_accuracy: 0.8724 - val_binary_crossentropy: 0.7497\n",
            "Epoch 8/20\n",
            "49/49 - 1s - loss: 9.8298e-05 - accuracy: 1.0000 - binary_crossentropy: 9.8298e-05 - val_loss: 0.7766 - val_accuracy: 0.8725 - val_binary_crossentropy: 0.7766\n",
            "Epoch 9/20\n",
            "49/49 - 1s - loss: 7.3214e-05 - accuracy: 1.0000 - binary_crossentropy: 7.3214e-05 - val_loss: 0.7977 - val_accuracy: 0.8724 - val_binary_crossentropy: 0.7977\n",
            "Epoch 10/20\n",
            "49/49 - 1s - loss: 5.6681e-05 - accuracy: 1.0000 - binary_crossentropy: 5.6681e-05 - val_loss: 0.8167 - val_accuracy: 0.8725 - val_binary_crossentropy: 0.8167\n",
            "Epoch 11/20\n",
            "49/49 - 1s - loss: 4.5354e-05 - accuracy: 1.0000 - binary_crossentropy: 4.5354e-05 - val_loss: 0.8329 - val_accuracy: 0.8724 - val_binary_crossentropy: 0.8329\n",
            "Epoch 12/20\n",
            "49/49 - 1s - loss: 3.7024e-05 - accuracy: 1.0000 - binary_crossentropy: 3.7024e-05 - val_loss: 0.8478 - val_accuracy: 0.8722 - val_binary_crossentropy: 0.8478\n",
            "Epoch 13/20\n",
            "49/49 - 1s - loss: 3.0767e-05 - accuracy: 1.0000 - binary_crossentropy: 3.0767e-05 - val_loss: 0.8618 - val_accuracy: 0.8722 - val_binary_crossentropy: 0.8618\n",
            "Epoch 14/20\n",
            "49/49 - 1s - loss: 2.5970e-05 - accuracy: 1.0000 - binary_crossentropy: 2.5970e-05 - val_loss: 0.8754 - val_accuracy: 0.8721 - val_binary_crossentropy: 0.8754\n",
            "Epoch 15/20\n",
            "49/49 - 1s - loss: 2.2135e-05 - accuracy: 1.0000 - binary_crossentropy: 2.2135e-05 - val_loss: 0.8872 - val_accuracy: 0.8722 - val_binary_crossentropy: 0.8872\n",
            "Epoch 16/20\n",
            "49/49 - 1s - loss: 1.9074e-05 - accuracy: 1.0000 - binary_crossentropy: 1.9074e-05 - val_loss: 0.8986 - val_accuracy: 0.8723 - val_binary_crossentropy: 0.8986\n",
            "Epoch 17/20\n",
            "49/49 - 1s - loss: 1.6572e-05 - accuracy: 1.0000 - binary_crossentropy: 1.6572e-05 - val_loss: 0.9095 - val_accuracy: 0.8723 - val_binary_crossentropy: 0.9095\n",
            "Epoch 18/20\n",
            "49/49 - 1s - loss: 1.4521e-05 - accuracy: 1.0000 - binary_crossentropy: 1.4521e-05 - val_loss: 0.9199 - val_accuracy: 0.8724 - val_binary_crossentropy: 0.9199\n",
            "Epoch 19/20\n",
            "49/49 - 1s - loss: 1.2799e-05 - accuracy: 1.0000 - binary_crossentropy: 1.2799e-05 - val_loss: 0.9293 - val_accuracy: 0.8723 - val_binary_crossentropy: 0.9293\n",
            "Epoch 20/20\n",
            "49/49 - 1s - loss: 1.1350e-05 - accuracy: 1.0000 - binary_crossentropy: 1.1350e-05 - val_loss: 0.9392 - val_accuracy: 0.8723 - val_binary_crossentropy: 0.9392\n"
          ],
          "name": "stdout"
        }
      ]
    },
    {
      "cell_type": "markdown",
      "metadata": {
        "id": "Fy3CMUZpzH3d"
      },
      "source": [
        "### 訓練時と検証時の損失をグラフにする\n",
        "\n",
        "<!--TODO(markdaoust): This should be a one-liner with tensorboard -->"
      ]
    },
    {
      "cell_type": "markdown",
      "metadata": {
        "id": "HSlo1F4xHuuM"
      },
      "source": [
        "実線は訓練用データセットの損失、破線は検証用データセットでの損失です（検証用データでの損失が小さい方が良いモデルです）。これをみると、小さいネットワークのほうが比較基準のモデルよりも過学習が始まるのが遅いことがわかります（4エポックではなく6エポック後）。また、過学習が始まっても性能の低下がよりゆっくりしています。"
      ]
    },
    {
      "cell_type": "code",
      "metadata": {
        "id": "0XmKDtOWzOpk",
        "colab": {
          "base_uri": "https://localhost:8080/",
          "height": 432
        },
        "outputId": "8f89549a-10e4-44e7-801d-81037f8012fc"
      },
      "source": [
        "def plot_history(histories, key='binary_crossentropy'):\n",
        "  plt.figure(figsize=(16,10))\n",
        "    \n",
        "  for name, history in histories:\n",
        "    val = plt.plot(history.epoch, history.history['val_'+key],\n",
        "                   '--', label=name.title()+' Val')\n",
        "    plt.plot(history.epoch, history.history[key], color=val[0].get_color(),\n",
        "             label=name.title()+' Train')\n",
        "\n",
        "  plt.xlabel('Epochs')\n",
        "  plt.ylabel(key.replace('_',' ').title())\n",
        "  plt.legend()\n",
        "\n",
        "  plt.xlim([0,max(history.epoch)])\n",
        "\n",
        "\n",
        "plot_history([('baseline', baseline_history),\n",
        "              ('smaller', smaller_history),\n",
        "              ('bigger', bigger_history)])"
      ],
      "execution_count": null,
      "outputs": [
        {
          "output_type": "display_data",
          "data": {
            "image/png": "[encoded data removed]",
            "text/plain": [
              "<Figure size 1152x720 with 1 Axes>"
            ]
          },
          "metadata": {
            "tags": [],
            "needs_background": "light"
          }
        }
      ]
    },
    {
      "cell_type": "markdown",
      "metadata": {
        "id": "Bi6hBhdnSfjA"
      },
      "source": [
        "より大きなネットワークでは、すぐに、1エポックで過学習が始まり、その度合も強いことに注目してください。ネットワークの容量が大きいほど訓練用データをモデル化するスピードが早くなり（結果として訓練時の損失値が小さくなり）ますが、より過学習しやすく（結果として訓練時の損失値と検証時の損失値が大きく乖離しやすく）なります。"
      ]
    },
    {
      "cell_type": "markdown",
      "metadata": {
        "id": "ASdv7nsgEFhx"
      },
      "source": [
        "## 過学習防止の戦略"
      ]
    },
    {
      "cell_type": "markdown",
      "metadata": {
        "id": "4rHoVWcswFLa"
      },
      "source": [
        "### 重みの正則化を加える\n"
      ]
    },
    {
      "cell_type": "markdown",
      "metadata": {
        "id": "kRxWepNawbBK"
      },
      "source": [
        "「オッカムの剃刀」の原則をご存知でしょうか。何かの説明が2つあるとすると、最も正しいと考えられる説明は、仮定の数が最も少ない「一番単純な」説明だというものです。この原則は、ニューラルネットワークを使って学習されたモデルにも当てはまります。ある訓練用データとネットワーク構造があって、そのデータを説明できる重みの集合が複数ある時（つまり、複数のモデルがある時）、単純なモデルのほうが複雑なものよりも過学習しにくいのです。\n",
        "\n",
        "ここで言う「単純なモデル」とは、パラメータ値の分布のエントロピーが小さいもの（あるいは、上記で見たように、そもそもパラメータの数が少ないもの）です。したがって、過学習を緩和するための一般的な手法は、重みが小さい値のみをとることで、重み値の分布がより整然となる（正則）様に制約を与えるものです。これを「重みの正則化」と呼ばれ、ネットワークの損失関数に、重みの大きさに関連するコストを加えることで行われます。このコストには2つの種類があります。\n",
        "\n",
        "* [L1正則化](https://developers.google.com/machine-learning/glossary/#L1_regularization) 重み係数の絶対値に比例するコストを加える（重みの「L1ノルム」と呼ばれる）。\n",
        "\n",
        "* [L2正則化](https://developers.google.com/machine-learning/glossary/#L2_regularization) 重み係数の二乗に比例するコストを加える（重み係数の二乗「L2ノルム」と呼ばれる）。L2正則化はニューラルネットワーク用語では重み減衰（Weight Decay）と呼ばれる。呼び方が違うので混乱しないように。重み減衰は数学的にはL2正則化と同義である。\n",
        "\n",
        "L1正則化は重みパラメータの一部を0にすることでモデルを疎にする効果があります。L2正則化は重みパラメータにペナルティを加えますがモデルを疎にすることはありません。これは、L2正則化のほうが一般的である理由の一つです。\n",
        "\n",
        "`tf.keras`では、重みの正則化をするために、重み正則化のインスタンスをキーワード引数として層に加えます。ここでは、L2正則化を追加してみましょう。"
      ]
    },
    {
      "cell_type": "code",
      "metadata": {
        "id": "HFGmcwduwVyQ",
        "colab": {
          "base_uri": "https://localhost:8080/"
        },
        "outputId": "d626537b-7b24-4299-e2df-d41851f54814"
      },
      "source": [
        "l2_model = keras.models.Sequential([\n",
        "    keras.layers.Dense(16, kernel_regularizer=keras.regularizers.l2(0.001),\n",
        "                       activation='relu', input_shape=(NUM_WORDS,)),\n",
        "    keras.layers.Dense(16, kernel_regularizer=keras.regularizers.l2(0.001),\n",
        "                       activation='relu'),\n",
        "    keras.layers.Dense(1, activation='sigmoid')\n",
        "])\n",
        "\n",
        "l2_model.compile(optimizer='adam',\n",
        "                 loss='binary_crossentropy',\n",
        "                 metrics=['accuracy', 'binary_crossentropy'])\n",
        "\n",
        "l2_model_history = l2_model.fit(train_data, train_labels,\n",
        "                                epochs=20,\n",
        "                                batch_size=512,\n",
        "                                validation_data=(test_data, test_labels),\n",
        "                                verbose=2)"
      ],
      "execution_count": null,
      "outputs": [
        {
          "output_type": "stream",
          "text": [
            "Epoch 1/20\n",
            "49/49 - 2s - loss: 0.5183 - accuracy: 0.8157 - binary_crossentropy: 0.4766 - val_loss: 0.3881 - val_accuracy: 0.8696 - val_binary_crossentropy: 0.3438\n",
            "Epoch 2/20\n",
            "49/49 - 1s - loss: 0.3043 - accuracy: 0.9077 - binary_crossentropy: 0.2556 - val_loss: 0.3353 - val_accuracy: 0.8872 - val_binary_crossentropy: 0.2835\n",
            "Epoch 3/20\n",
            "49/49 - 1s - loss: 0.2539 - accuracy: 0.9297 - binary_crossentropy: 0.1997 - val_loss: 0.3411 - val_accuracy: 0.8852 - val_binary_crossentropy: 0.2850\n",
            "Epoch 4/20\n",
            "49/49 - 1s - loss: 0.2302 - accuracy: 0.9401 - binary_crossentropy: 0.1725 - val_loss: 0.3603 - val_accuracy: 0.8794 - val_binary_crossentropy: 0.3014\n",
            "Epoch 5/20\n",
            "49/49 - 1s - loss: 0.2161 - accuracy: 0.9474 - binary_crossentropy: 0.1556 - val_loss: 0.3682 - val_accuracy: 0.8786 - val_binary_crossentropy: 0.3067\n",
            "Epoch 6/20\n",
            "49/49 - 1s - loss: 0.2058 - accuracy: 0.9510 - binary_crossentropy: 0.1435 - val_loss: 0.3841 - val_accuracy: 0.8750 - val_binary_crossentropy: 0.3210\n",
            "Epoch 7/20\n",
            "49/49 - 1s - loss: 0.1961 - accuracy: 0.9552 - binary_crossentropy: 0.1322 - val_loss: 0.3981 - val_accuracy: 0.8729 - val_binary_crossentropy: 0.3341\n",
            "Epoch 8/20\n",
            "49/49 - 1s - loss: 0.1899 - accuracy: 0.9585 - binary_crossentropy: 0.1252 - val_loss: 0.4127 - val_accuracy: 0.8711 - val_binary_crossentropy: 0.3475\n",
            "Epoch 9/20\n",
            "49/49 - 1s - loss: 0.1846 - accuracy: 0.9590 - binary_crossentropy: 0.1188 - val_loss: 0.4364 - val_accuracy: 0.8659 - val_binary_crossentropy: 0.3702\n",
            "Epoch 10/20\n",
            "49/49 - 1s - loss: 0.1805 - accuracy: 0.9611 - binary_crossentropy: 0.1138 - val_loss: 0.4471 - val_accuracy: 0.8641 - val_binary_crossentropy: 0.3800\n",
            "Epoch 11/20\n",
            "49/49 - 1s - loss: 0.1776 - accuracy: 0.9620 - binary_crossentropy: 0.1100 - val_loss: 0.4524 - val_accuracy: 0.8661 - val_binary_crossentropy: 0.3844\n",
            "Epoch 12/20\n",
            "49/49 - 1s - loss: 0.1731 - accuracy: 0.9645 - binary_crossentropy: 0.1049 - val_loss: 0.4707 - val_accuracy: 0.8632 - val_binary_crossentropy: 0.4024\n",
            "Epoch 13/20\n",
            "49/49 - 1s - loss: 0.1694 - accuracy: 0.9657 - binary_crossentropy: 0.1007 - val_loss: 0.4837 - val_accuracy: 0.8609 - val_binary_crossentropy: 0.4145\n",
            "Epoch 14/20\n",
            "49/49 - 1s - loss: 0.1681 - accuracy: 0.9656 - binary_crossentropy: 0.0985 - val_loss: 0.4977 - val_accuracy: 0.8602 - val_binary_crossentropy: 0.4279\n",
            "Epoch 15/20\n",
            "49/49 - 1s - loss: 0.1677 - accuracy: 0.9656 - binary_crossentropy: 0.0974 - val_loss: 0.5110 - val_accuracy: 0.8576 - val_binary_crossentropy: 0.4405\n",
            "Epoch 16/20\n",
            "49/49 - 1s - loss: 0.1625 - accuracy: 0.9680 - binary_crossentropy: 0.0918 - val_loss: 0.5187 - val_accuracy: 0.8570 - val_binary_crossentropy: 0.4478\n",
            "Epoch 17/20\n",
            "49/49 - 1s - loss: 0.1593 - accuracy: 0.9695 - binary_crossentropy: 0.0884 - val_loss: 0.5327 - val_accuracy: 0.8564 - val_binary_crossentropy: 0.4618\n",
            "Epoch 18/20\n",
            "49/49 - 1s - loss: 0.1557 - accuracy: 0.9711 - binary_crossentropy: 0.0847 - val_loss: 0.5409 - val_accuracy: 0.8558 - val_binary_crossentropy: 0.4701\n",
            "Epoch 19/20\n",
            "49/49 - 1s - loss: 0.1532 - accuracy: 0.9721 - binary_crossentropy: 0.0825 - val_loss: 0.5552 - val_accuracy: 0.8552 - val_binary_crossentropy: 0.4845\n",
            "Epoch 20/20\n",
            "49/49 - 1s - loss: 0.1545 - accuracy: 0.9708 - binary_crossentropy: 0.0836 - val_loss: 0.5634 - val_accuracy: 0.8546 - val_binary_crossentropy: 0.4920\n"
          ],
          "name": "stdout"
        }
      ]
    },
    {
      "cell_type": "markdown",
      "metadata": {
        "id": "bUUHoXb7w-_C"
      },
      "source": [
        "```l2(0.001)```というのは、層の重み行列の係数全てに対して```0.001 * 重み係数の値 **2```をネットワークの損失値合計に加えることを意味します。このペナルティは訓練時のみに加えられるため、このネットワークの損失値は、訓練時にはテスト時に比べて大きくなることに注意してください。\n",
        "\n",
        "L2正則化の影響を見てみましょう。"
      ]
    },
    {
      "cell_type": "code",
      "metadata": {
        "id": "7wkfLyxBZdh_",
        "colab": {
          "base_uri": "https://localhost:8080/",
          "height": 432
        },
        "outputId": "51778b50-b117-4328-a3c7-ed5c70193836"
      },
      "source": [
        "plot_history([('baseline', baseline_history),\n",
        "              ('l2', l2_model_history)])"
      ],
      "execution_count": null,
      "outputs": [
        {
          "output_type": "display_data",
          "data": {
            "image/png": "[encoded data removed]",
            "text/plain": [
              "<Figure size 1152x720 with 1 Axes>"
            ]
          },
          "metadata": {
            "tags": [],
            "needs_background": "light"
          }
        }
      ]
    },
    {
      "cell_type": "markdown",
      "metadata": {
        "id": "Kx1YHMsVxWjP"
      },
      "source": [
        "ご覧のように、L2正則化ありのモデルは比較基準のモデルに比べて過学習しにくくなっています。両方のモデルのパラメータ数は同じであるにもかかわらずです。"
      ]
    },
    {
      "cell_type": "markdown",
      "metadata": {
        "id": "HmnBNOOVxiG8"
      },
      "source": [
        "### ドロップアウトを追加する\n",
        "\n",
        "ドロップアウトは、ニューラルネットワークの正則化テクニックとして最もよく使われる手法の一つです。この手法は、トロント大学のヒントンと彼の学生が開発したものです。ドロップアウトは層に適用するもので、訓練時に層から出力された特徴量に対してランダムに「ドロップアウト（つまりゼロ化）」を行うものです。例えば、ある層が訓練時にある入力サンプルに対して、普通は`[0.2, 0.5, 1.3, 0.8, 1.1]` というベクトルを出力するとします。ドロップアウトを適用すると、このベクトルは例えば`[0, 0.5, 1.3, 0, 1.1]`のようにランダムに散らばったいくつかのゼロを含むようになります。「ドロップアウト率」はゼロ化される特徴の割合で、通常は0.2から0.5の間に設定します。テスト時は、どのユニットもドロップアウトされず、代わりに出力値がドロップアウト率と同じ比率でスケールダウンされます。これは、訓練時に比べてたくさんのユニットがアクティブであることに対してバランスをとるためです。\n",
        "\n",
        "`tf.keras`では、Dropout層を使ってドロップアウトをネットワークに導入できます。ドロップアウト層は、その直前の層の出力に対してドロップアウトを適用します。\n",
        "\n",
        "それでは、IMDBネットワークに2つのドロップアウト層を追加しましょう。"
      ]
    },
    {
      "cell_type": "code",
      "metadata": {
        "id": "OFEYvtrHxSWS",
        "colab": {
          "base_uri": "https://localhost:8080/"
        },
        "outputId": "136f4b20-7508-4fb1-df1e-3958a46f2161"
      },
      "source": [
        "dpt_model = keras.models.Sequential([\n",
        "    keras.layers.Dense(16, activation='relu', input_shape=(NUM_WORDS,)),\n",
        "    keras.layers.Dropout(0.5),\n",
        "    keras.layers.Dense(16, activation='relu'),\n",
        "    keras.layers.Dropout(0.5),\n",
        "    keras.layers.Dense(1, activation='sigmoid')\n",
        "])\n",
        "\n",
        "dpt_model.compile(optimizer='adam',\n",
        "                  loss='binary_crossentropy',\n",
        "                  metrics=['accuracy','binary_crossentropy'])\n",
        "\n",
        "dpt_model_history = dpt_model.fit(train_data, train_labels,\n",
        "                                  epochs=20,\n",
        "                                  batch_size=512,\n",
        "                                  validation_data=(test_data, test_labels),\n",
        "                                  verbose=2)"
      ],
      "execution_count": null,
      "outputs": [
        {
          "output_type": "stream",
          "text": [
            "Epoch 1/20\n",
            "49/49 - 2s - loss: 0.5988 - accuracy: 0.6824 - binary_crossentropy: 0.5988 - val_loss: 0.4352 - val_accuracy: 0.8639 - val_binary_crossentropy: 0.4352\n",
            "Epoch 2/20\n",
            "49/49 - 1s - loss: 0.4107 - accuracy: 0.8357 - binary_crossentropy: 0.4107 - val_loss: 0.3143 - val_accuracy: 0.8839 - val_binary_crossentropy: 0.3143\n"
          ],
          "name": "stdout"
        }
      ]
    },
    {
      "cell_type": "code",
      "metadata": {
        "id": "SPZqwVchx5xp"
      },
      "source": [
        "plot_history([('baseline', baseline_history),\n",
        "              ('dropout', dpt_model_history)])"
      ],
      "execution_count": null,
      "outputs": []
    },
    {
      "cell_type": "markdown",
      "metadata": {
        "id": "QioQ5e9GN0bM"
      },
      "source": [
        "ドロップアウトを追加することで、比較対象モデルより明らかに改善が見られます。\n",
        "\n",
        "まとめ：ニューラルネットワークにおいて過学習を防ぐ最も一般的な方法は次のとおりです。\n",
        "\n",
        "* 訓練データを増やす\n",
        "* ネットワークの容量をへらす\n",
        "* 重みの正則化を行う\n",
        "* ドロップアウトを追加する\n",
        "\n",
        "このガイドで触れていない２つの重要なアプローチがあります。データ拡張とバッチ正規化です。"
      ]
    }
  ]
}
