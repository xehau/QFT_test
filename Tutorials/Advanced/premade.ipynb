{
  "nbformat": 4,
  "nbformat_minor": 0,
  "metadata": {
    "colab": {
      "name": "premade.ipynb",
      "provenance": [],
      "collapsed_sections": [],
      "toc_visible": true,
      "include_colab_link": true
    },
    "kernelspec": {
      "display_name": "Python 3",
      "name": "python3"
    },
    "accelerator": "TPU"
  },
  "cells": [
    {
      "cell_type": "markdown",
      "metadata": {
        "id": "view-in-github",
        "colab_type": "text"
      },
      "source": [
        "<a href=\"https://colab.research.google.com/github/xehau/xehau_lessons/blob/master/premade.ipynb\" target=\"_parent\"><img src=\"https://colab.research.google.com/assets/colab-badge.svg\" alt=\"Open In Colab\"/></a>"
      ]
    },
    {
      "cell_type": "markdown",
      "metadata": {
        "id": "1Z6Wtb_jisbA"
      },
      "source": [
        "##### Copyright 2019 The TensorFlow Authors."
      ]
    },
    {
      "cell_type": "code",
      "metadata": {
        "cellView": "form",
        "id": "QUyRGn9riopB"
      },
      "source": [
        "#@title Licensed under the Apache License, Version 2.0 (the \"License\");\n",
        "# you may not use this file except in compliance with the License.\n",
        "# You may obtain a copy of the License at\n",
        "#\n",
        "# https://www.apache.org/licenses/LICENSE-2.0\n",
        "#\n",
        "# Unless required by applicable law or agreed to in writing, software\n",
        "# distributed under the License is distributed on an \"AS IS\" BASIS,\n",
        "# WITHOUT WARRANTIES OR CONDITIONS OF ANY KIND, either express or implied.\n",
        "# See the License for the specific language governing permissions and\n",
        "# limitations under the License."
      ],
      "execution_count": null,
      "outputs": []
    },
    {
      "cell_type": "markdown",
      "metadata": {
        "id": "H1yCdGFW4j_F"
      },
      "source": [
        "# 事前作成された Estimator"
      ]
    },
    {
      "cell_type": "markdown",
      "metadata": {
        "id": "PS6_yKSoyLAl"
      },
      "source": [
        "<table class=\"tfo-notebook-buttons\" align=\"left\">\n",
        "  <td>\n",
        "<img src=\"https://www.tensorflow.org/images/tf_logo_32px.png\"><a target=\"_blank\" href=\"https://colab.research.google.com/github/tensorflow/docs-l10n/blob/master/site/ja/tutorials/estimator/premade.ipynb\">TensorFlow.org で表示</a>\n",
        "</td>\n",
        "  <td>\n",
        "<img src=\"https://www.tensorflow.org/images/colab_logo_32px.png\"><a target=\"_blank\" href=\"https://github.com/tensorflow/docs-l10n/blob/master/site/ja/tutorials/estimator/premade.ipynb\">Google Colab で実行</a>\n",
        "</td>\n",
        "  <td>\n",
        "<img src=\"https://www.tensorflow.org/images/GitHub-Mark-32px.png\"><a target=\"_blank\" href=\"https://storage.googleapis.com/tensorflow_docs/docs-l10n/site/ja/tutorials/estimator/premade.ipynb\">GitHub でソースを表示</a>\n",
        "</td>\n",
        "  <td>\n",
        "<img src=\"https://www.tensorflow.org/images/download_logo_32px.png\"><a href=\"https://storage.googleapis.com/tensorflow_docs/docs/site/en/tutorials/estimator/premade.ipynb\">ノートブックをダウンロード</a>\n",
        "</td>\n",
        "</table>"
      ]
    },
    {
      "cell_type": "markdown",
      "metadata": {
        "id": "R4YZ_ievcY7p"
      },
      "source": [
        "このチュートリアルでは、Estimator を使用して、TensorFlow でアヤメの分類問題を解決する方法を示します。Estimator は TensorFlow における完全なモデルの高レベルの表現で、スケーリングと非同期トレーニングを行いやすいように設計されています。詳細については、「[Estimators](https://www.tensorflow.org/guide/estimator)」をご覧ください。\n",
        "\n",
        "TensorFlow 2.0 では、[Keras API](https://www.tensorflow.org/guide/keras) を使ってこれらのタスクを達成できます。学習しやすいと考えられている API であるため、新しく始める場合は、Keras から始めることをお勧めします。TensorFlow 2.0 で提供されている高レベル API に関する詳細は、「[Standardizing on Keras](https://medium.com/tensorflow/standardizing-on-keras-guidance-on-high-level-apis-in-tensorflow-2-0-bad2b04c819a)」をご覧ください。\n"
      ]
    },
    {
      "cell_type": "markdown",
      "metadata": {
        "id": "8IFct0yedsTy"
      },
      "source": [
        "## まず最初に\n",
        "\n",
        "始めるには、最初に TensorFlow と必要となる多数のライブラリをインポートします。"
      ]
    },
    {
      "cell_type": "code",
      "metadata": {
        "id": "jPo5bQwndr9P"
      },
      "source": [
        "import tensorflow as tf\n",
        "\n",
        "import pandas as pd"
      ],
      "execution_count": null,
      "outputs": []
    },
    {
      "cell_type": "markdown",
      "metadata": {
        "id": "c5w4m5gncnGh"
      },
      "source": [
        "## データセット\n",
        "\n",
        "このドキュメントのサンプルプログラムは、アヤメの花を、[萼片](https://en.wikipedia.org/wiki/Sepal)と[花弁](https://en.wikipedia.org/wiki/Petal)のサイズに基づいて、3 つの品種に分類するモデルを構築してテストします。\n",
        "\n",
        "モデルのトレーニングには、Iris データセットを使用します。Iris データセットには 4 つの特徴量と 1 つの[ラベル](https://developers.google.com/machine-learning/glossary/#label)が含まれます。4 つの特徴量は、次に示す各アヤメの植物学的特性を識別します。\n",
        "\n",
        "- 萼片の長さ\n",
        "- 萼片の幅\n",
        "- 花弁の長さ\n",
        "- 花弁の幅\n",
        "\n",
        "この情報に基づき、データを解析する上で役立ついくつかの定数を定義できます。\n"
      ]
    },
    {
      "cell_type": "code",
      "metadata": {
        "id": "lSyrXp_He_UE"
      },
      "source": [
        "CSV_COLUMN_NAMES = ['SepalLength', 'SepalWidth', 'PetalLength', 'PetalWidth', 'Species']\n",
        "SPECIES = ['Setosa', 'Versicolor', 'Virginica']"
      ],
      "execution_count": null,
      "outputs": []
    },
    {
      "cell_type": "markdown",
      "metadata": {
        "id": "j6mTfIQzfC9w"
      },
      "source": [
        "次に、Keras と Pandas を使用して、Iris データセットをダウンロードして解析します。トレーニング用とテスト用に別々のデータセットを維持することに注意してください。"
      ]
    },
    {
      "cell_type": "code",
      "metadata": {
        "id": "PumyCN8VdGGc",
        "colab": {
          "base_uri": "https://localhost:8080/"
        },
        "outputId": "44ff6ebe-545e-436e-de5d-5477c72ecbe7"
      },
      "source": [
        "train_path = tf.keras.utils.get_file(\n",
        "    \"iris_training.csv\", \"https://storage.googleapis.com/download.tensorflow.org/data/iris_training.csv\")\n",
        "test_path = tf.keras.utils.get_file(\n",
        "    \"iris_test.csv\", \"https://storage.googleapis.com/download.tensorflow.org/data/iris_test.csv\")\n",
        "\n",
        "train = pd.read_csv(train_path, names=CSV_COLUMN_NAMES, header=0)\n",
        "test = pd.read_csv(test_path, names=CSV_COLUMN_NAMES, header=0)"
      ],
      "execution_count": null,
      "outputs": [
        {
          "output_type": "stream",
          "text": [
            "Downloading data from https://storage.googleapis.com/download.tensorflow.org/data/iris_training.csv\n",
            "\r8192/2194 [================================================================================================================] - 0s 0us/step\n",
            "Downloading data from https://storage.googleapis.com/download.tensorflow.org/data/iris_test.csv\n",
            "8192/573 [============================================================================================================================================================================================================================================================================================================================================================================================================================================] - 0s 0us/step\n"
          ],
          "name": "stdout"
        }
      ]
    },
    {
      "cell_type": "markdown",
      "metadata": {
        "id": "wHFxNLszhQjz"
      },
      "source": [
        "データを検査し、4 つの浮動小数型の特徴量カラムと 1 つの int32 ラベルがあることを確認します。"
      ]
    },
    {
      "cell_type": "code",
      "metadata": {
        "id": "WOJt-ML4hAwI",
        "colab": {
          "base_uri": "https://localhost:8080/",
          "height": 195
        },
        "outputId": "81e93c03-5202-4393-accd-db37270ca869"
      },
      "source": [
        "train.head()"
      ],
      "execution_count": null,
      "outputs": [
        {
          "output_type": "execute_result",
          "data": {
            "text/html": [
              "<div>\n",
              "<style scoped>\n",
              "    .dataframe tbody tr th:only-of-type {\n",
              "        vertical-align: middle;\n",
              "    }\n",
              "\n",
              "    .dataframe tbody tr th {\n",
              "        vertical-align: top;\n",
              "    }\n",
              "\n",
              "    .dataframe thead th {\n",
              "        text-align: right;\n",
              "    }\n",
              "</style>\n",
              "<table border=\"1\" class=\"dataframe\">\n",
              "  <thead>\n",
              "    <tr style=\"text-align: right;\">\n",
              "      <th></th>\n",
              "      <th>SepalLength</th>\n",
              "      <th>SepalWidth</th>\n",
              "      <th>PetalLength</th>\n",
              "      <th>PetalWidth</th>\n",
              "      <th>Species</th>\n",
              "    </tr>\n",
              "  </thead>\n",
              "  <tbody>\n",
              "    <tr>\n",
              "      <th>0</th>\n",
              "      <td>6.4</td>\n",
              "      <td>2.8</td>\n",
              "      <td>5.6</td>\n",
              "      <td>2.2</td>\n",
              "      <td>2</td>\n",
              "    </tr>\n",
              "    <tr>\n",
              "      <th>1</th>\n",
              "      <td>5.0</td>\n",
              "      <td>2.3</td>\n",
              "      <td>3.3</td>\n",
              "      <td>1.0</td>\n",
              "      <td>1</td>\n",
              "    </tr>\n",
              "    <tr>\n",
              "      <th>2</th>\n",
              "      <td>4.9</td>\n",
              "      <td>2.5</td>\n",
              "      <td>4.5</td>\n",
              "      <td>1.7</td>\n",
              "      <td>2</td>\n",
              "    </tr>\n",
              "    <tr>\n",
              "      <th>3</th>\n",
              "      <td>4.9</td>\n",
              "      <td>3.1</td>\n",
              "      <td>1.5</td>\n",
              "      <td>0.1</td>\n",
              "      <td>0</td>\n",
              "    </tr>\n",
              "    <tr>\n",
              "      <th>4</th>\n",
              "      <td>5.7</td>\n",
              "      <td>3.8</td>\n",
              "      <td>1.7</td>\n",
              "      <td>0.3</td>\n",
              "      <td>0</td>\n",
              "    </tr>\n",
              "  </tbody>\n",
              "</table>\n",
              "</div>"
            ],
            "text/plain": [
              "   SepalLength  SepalWidth  PetalLength  PetalWidth  Species\n",
              "0          6.4         2.8          5.6         2.2        2\n",
              "1          5.0         2.3          3.3         1.0        1\n",
              "2          4.9         2.5          4.5         1.7        2\n",
              "3          4.9         3.1          1.5         0.1        0\n",
              "4          5.7         3.8          1.7         0.3        0"
            ]
          },
          "metadata": {
            "tags": []
          },
          "execution_count": 4
        }
      ]
    },
    {
      "cell_type": "markdown",
      "metadata": {
        "id": "jQJEYfVvfznP"
      },
      "source": [
        "各データセットに対し、モデルが予測するようにトレーニングされるラベルを分割します。"
      ]
    },
    {
      "cell_type": "code",
      "metadata": {
        "id": "zM0wz2TueuA6",
        "colab": {
          "base_uri": "https://localhost:8080/",
          "height": 195
        },
        "outputId": "a42f8639-c36c-423d-f06e-4bd8a9256a26"
      },
      "source": [
        "train_y = train.pop('Species')\n",
        "test_y = test.pop('Species')\n",
        "\n",
        "# The label column has now been removed from the features.\n",
        "train.head()"
      ],
      "execution_count": null,
      "outputs": [
        {
          "output_type": "execute_result",
          "data": {
            "text/html": [
              "<div>\n",
              "<style scoped>\n",
              "    .dataframe tbody tr th:only-of-type {\n",
              "        vertical-align: middle;\n",
              "    }\n",
              "\n",
              "    .dataframe tbody tr th {\n",
              "        vertical-align: top;\n",
              "    }\n",
              "\n",
              "    .dataframe thead th {\n",
              "        text-align: right;\n",
              "    }\n",
              "</style>\n",
              "<table border=\"1\" class=\"dataframe\">\n",
              "  <thead>\n",
              "    <tr style=\"text-align: right;\">\n",
              "      <th></th>\n",
              "      <th>SepalLength</th>\n",
              "      <th>SepalWidth</th>\n",
              "      <th>PetalLength</th>\n",
              "      <th>PetalWidth</th>\n",
              "    </tr>\n",
              "  </thead>\n",
              "  <tbody>\n",
              "    <tr>\n",
              "      <th>0</th>\n",
              "      <td>6.4</td>\n",
              "      <td>2.8</td>\n",
              "      <td>5.6</td>\n",
              "      <td>2.2</td>\n",
              "    </tr>\n",
              "    <tr>\n",
              "      <th>1</th>\n",
              "      <td>5.0</td>\n",
              "      <td>2.3</td>\n",
              "      <td>3.3</td>\n",
              "      <td>1.0</td>\n",
              "    </tr>\n",
              "    <tr>\n",
              "      <th>2</th>\n",
              "      <td>4.9</td>\n",
              "      <td>2.5</td>\n",
              "      <td>4.5</td>\n",
              "      <td>1.7</td>\n",
              "    </tr>\n",
              "    <tr>\n",
              "      <th>3</th>\n",
              "      <td>4.9</td>\n",
              "      <td>3.1</td>\n",
              "      <td>1.5</td>\n",
              "      <td>0.1</td>\n",
              "    </tr>\n",
              "    <tr>\n",
              "      <th>4</th>\n",
              "      <td>5.7</td>\n",
              "      <td>3.8</td>\n",
              "      <td>1.7</td>\n",
              "      <td>0.3</td>\n",
              "    </tr>\n",
              "  </tbody>\n",
              "</table>\n",
              "</div>"
            ],
            "text/plain": [
              "   SepalLength  SepalWidth  PetalLength  PetalWidth\n",
              "0          6.4         2.8          5.6         2.2\n",
              "1          5.0         2.3          3.3         1.0\n",
              "2          4.9         2.5          4.5         1.7\n",
              "3          4.9         3.1          1.5         0.1\n",
              "4          5.7         3.8          1.7         0.3"
            ]
          },
          "metadata": {
            "tags": []
          },
          "execution_count": 5
        }
      ]
    },
    {
      "cell_type": "markdown",
      "metadata": {
        "id": "jZx1L_1Vcmxv"
      },
      "source": [
        "## Estimator を使ったプログラミングの概要\n",
        "\n",
        "データのセットアップが完了したので、TensorFlow Estimator を使ってモデルを定義できます。Estimator は、`tf.estimator.Estimator` から派生したクラスです。TensorFlow は、一群の `tf.estimator`（`LinearRegressor` など）を提供しており、一般的な ML アルゴリズムを実装することができます。このほか、独自の[カスタム Estimator](https://www.tensorflow.org/guide/custom_estimators) を作成することもできますが、使用し始めには、事前作成済みの Estimator を使用することをお勧めします。\n",
        "\n",
        "事前作成済みの Estimator に基づいて TensorFlow プログラムを記述するには、次のタスクを実行する必要があります。\n",
        "\n",
        "- 1 つ以上の入力関数を作成する。\n",
        "- モデルの特徴量カラムを定義する。\n",
        "- Estimator をインスタンス化する。特徴量カラムとさまざまなハイパーパラメータを指定します。\n",
        "- Estimator オブジェクトに 1 つ以上のメソッドを呼び出す。データのソースとして適切な入力関数を渡します。\n",
        "\n",
        "では、アヤメの分類において、これらのタスクをどのように実装するのか見てみましょう。"
      ]
    },
    {
      "cell_type": "markdown",
      "metadata": {
        "id": "2OcguDfBcmmg"
      },
      "source": [
        "## 入力関数を作成する\n",
        "\n",
        "トレーニング、評価、および予測を行うためのデータを提供する入力関数を作成する必要があります。\n",
        "\n",
        "**入力関数**とは、次の要素タプルを出力する `tf.data.Dataset` オブジェクトを返す関数です。\n",
        "\n",
        "- [`features`](https://developers.google.com/machine-learning/glossary/#feature) - 次のような Python ディクショナリ。\n",
        "    - 各キーが特徴量の名前である。\n",
        "    - 各値が、特徴量の値のすべてを含む配列である。\n",
        "- `label` - 各サンプルの [label](https://developers.google.com/machine-learning/glossary/#label) の値を含む配列。\n",
        "\n",
        "入力関数の書式を示すために、単純な実装を次に示します。"
      ]
    },
    {
      "cell_type": "code",
      "metadata": {
        "id": "nzr5vRr5caGF"
      },
      "source": [
        "def input_evaluation_set():\n",
        "    features = {'SepalLength': np.array([6.4, 5.0]),\n",
        "                'SepalWidth':  np.array([2.8, 2.3]),\n",
        "                'PetalLength': np.array([5.6, 3.3]),\n",
        "                'PetalWidth':  np.array([2.2, 1.0])}\n",
        "    labels = np.array([2, 1])\n",
        "    return features, labels"
      ],
      "execution_count": null,
      "outputs": []
    },
    {
      "cell_type": "markdown",
      "metadata": {
        "id": "NpXvGjfnjHgY"
      },
      "source": [
        "入力関数を自分で作成すれば、`features` ディクショナリと `label` リストを好みに合わせて生成できるようにすることができますが、あらゆる種類のデータを解析できる TensorFlow の [Dataset API](https://www.tensorflow.org/guide/datasets) を使用することをお勧めします。\n",
        "\n",
        "Dataset API は、多数の一般的な事例を処理することができます。たとえば、Dataset API を使用すると、大量のファイルのレコードを並列して読み取り、単一のストリームに結合することが簡単に行えます。\n",
        "\n",
        "この例では事を単純にするために、[pandas](https://pandas.pydata.org/) でデータを読み込み、このメモリ内のデータから入力パイプラインを構築します。\n"
      ]
    },
    {
      "cell_type": "code",
      "metadata": {
        "id": "T20u1anCi8NP"
      },
      "source": [
        "def input_fn(features, labels, training=True, batch_size=256):\n",
        "    \"\"\"An input function for training or evaluating\"\"\"\n",
        "    # Convert the inputs to a Dataset.\n",
        "    dataset = tf.data.Dataset.from_tensor_slices((dict(features), labels))\n",
        "\n",
        "    # Shuffle and repeat if you are in training mode.\n",
        "    if training:\n",
        "        dataset = dataset.shuffle(1000).repeat()\n",
        "    \n",
        "    return dataset.batch(batch_size)\n"
      ],
      "execution_count": null,
      "outputs": []
    },
    {
      "cell_type": "markdown",
      "metadata": {
        "id": "xIwcFT4MlZEi"
      },
      "source": [
        "## 特徴量カラムを定義する\n",
        "\n",
        "[**特徴量カラム**](https://developers.google.com/machine-learning/glossary/#feature_columns)は、特徴量ディクショナリの生の入力データを、モデルがどのように使用すべきかを説明するオブジェクトです。Estimator モデルを作成する際に、モデルが使用する各特徴量を説明する特徴量カラムをモデルに渡します。`tf.feature_column` モジュールには、モデルに対してデータを表現するためのオプションが多数含まれています。\n",
        "\n",
        "Iris については、4 つの生の特徴量は数値であるため、Estimator に対して、これら 4 つの各特徴量を 32 ビットの浮動小数点数型の値として表現するように命令する特徴量カラムを構築します。したがって、特徴カラムを作成するためのコードは、次のようになります。"
      ]
    },
    {
      "cell_type": "code",
      "metadata": {
        "id": "ZTTriO8FlSML"
      },
      "source": [
        "# Feature columns describe how to use the input.\n",
        "my_feature_columns = []\n",
        "for key in train.keys():\n",
        "    my_feature_columns.append(tf.feature_column.numeric_column(key=key))"
      ],
      "execution_count": null,
      "outputs": []
    },
    {
      "cell_type": "markdown",
      "metadata": {
        "id": "jpKkhMoZljco"
      },
      "source": [
        "特徴量カラムは、ここに示すものよりもはるかに高度なものに構築することができます。特徴量カラムの詳細については、[こちらのガイド](https://www.tensorflow.org/guide/feature_columns)をご覧ください。\n",
        "\n",
        "モデルが生の特徴量をどのように表現するかに関する記述を準備できたので、Estimator を構築することができます。"
      ]
    },
    {
      "cell_type": "markdown",
      "metadata": {
        "id": "kuE59XHEl22K"
      },
      "source": [
        "## Estimator をインスタンス化する\n",
        "\n",
        "アヤメの問題はよく知られた分類問題です。幸いにも、TensorFlow は、次のような事前作成済みの分類子 Estimator を複数用意しています。\n",
        "\n",
        "- `tf.estimator.DNNClassifier`: 多クラス分類を実行するディープモデルに使用。\n",
        "- `tf.estimator.DNNLinearCombinedClassifier`: ワイド＆ディープモデルに使用。\n",
        "- `tf.estimator.LinearClassifier`: 線形モデルに基づく分類子に使用。\n",
        "\n",
        "アヤメの問題に関しては、`tf.estimator.DNNClassifier` が最適な選択肢と言えます。この Estimator をインスタンス化する方法を次に示します。"
      ]
    },
    {
      "cell_type": "code",
      "metadata": {
        "id": "qnf4o2V5lcPn",
        "colab": {
          "base_uri": "https://localhost:8080/"
        },
        "outputId": "fc45398d-6cbb-4f00-b88b-df8cf2f62f46"
      },
      "source": [
        "# Build a DNN with 2 hidden layers with 30 and 10 hidden nodes each.\n",
        "classifier = tf.estimator.DNNClassifier(\n",
        "    feature_columns=my_feature_columns,\n",
        "    # Two hidden layers of 30 and 10 nodes respectively.\n",
        "    hidden_units=[30, 10],\n",
        "    # The model must choose between 3 classes.\n",
        "    n_classes=3)"
      ],
      "execution_count": null,
      "outputs": [
        {
          "output_type": "stream",
          "text": [
            "INFO:tensorflow:Using default config.\n",
            "WARNING:tensorflow:Using temporary folder as model directory: /tmp/tmplzkl50wt\n",
            "INFO:tensorflow:Using config: {'_model_dir': '/tmp/tmplzkl50wt', '_tf_random_seed': None, '_save_summary_steps': 100, '_save_checkpoints_steps': None, '_save_checkpoints_secs': 600, '_session_config': allow_soft_placement: true\n",
            "graph_options {\n",
            "  rewrite_options {\n",
            "    meta_optimizer_iterations: ONE\n",
            "  }\n",
            "}\n",
            ", '_keep_checkpoint_max': 5, '_keep_checkpoint_every_n_hours': 10000, '_log_step_count_steps': 100, '_train_distribute': None, '_device_fn': None, '_protocol': None, '_eval_distribute': None, '_experimental_distribute': None, '_experimental_max_worker_delay_secs': None, '_session_creation_timeout_secs': 7200, '_checkpoint_save_graph_def': True, '_service': None, '_cluster_spec': ClusterSpec({}), '_task_type': 'worker', '_task_id': 0, '_global_id_in_cluster': 0, '_master': '', '_evaluation_master': '', '_is_chief': True, '_num_ps_replicas': 0, '_num_worker_replicas': 1}\n"
          ],
          "name": "stdout"
        }
      ]
    },
    {
      "cell_type": "markdown",
      "metadata": {
        "id": "tzzt5nUpmEe3"
      },
      "source": [
        "## トレーニングして評価して予測する\n",
        "\n",
        "Estimator オブジェクトを準備したので、次の項目を行うメソッド呼び出すことができます。\n",
        "\n",
        "- モデルをトレーニングする。\n",
        "- トレーニングされたモデルを評価する。\n",
        "- トレーニングされたモデルを使用して、予測を立てる。"
      ]
    },
    {
      "cell_type": "markdown",
      "metadata": {
        "id": "rnihuLdWmE75"
      },
      "source": [
        "### モデルをトレーニングする\n",
        "\n",
        "次のように、Estimator の `train` メソッドを呼び出して、モデルをトレーニングします。"
      ]
    },
    {
      "cell_type": "code",
      "metadata": {
        "id": "4jW08YtPl1iS",
        "colab": {
          "base_uri": "https://localhost:8080/"
        },
        "outputId": "160ed0c3-9338-4523-f39c-dfd9acc07e75"
      },
      "source": [
        "# Train the Model.\n",
        "classifier.train(\n",
        "    input_fn=lambda: input_fn(train, train_y, training=True),\n",
        "    steps=5000)"
      ],
      "execution_count": null,
      "outputs": [
        {
          "output_type": "stream",
          "text": [
            "WARNING:tensorflow:From /usr/local/lib/python3.7/dist-packages/tensorflow/python/training/training_util.py:236: Variable.initialized_value (from tensorflow.python.ops.variables) is deprecated and will be removed in a future version.\n",
            "Instructions for updating:\n",
            "Use Variable.read_value. Variables in 2.X are initialized automatically both in eager and graph (inside tf.defun) contexts.\n",
            "INFO:tensorflow:Calling model_fn.\n",
            "WARNING:tensorflow:From /usr/local/lib/python3.7/dist-packages/tensorflow/python/keras/optimizer_v2/adagrad.py:83: calling Constant.__init__ (from tensorflow.python.ops.init_ops) with dtype is deprecated and will be removed in a future version.\n",
            "Instructions for updating:\n",
            "Call initializer instance with the dtype argument instead of passing it to the constructor\n",
            "INFO:tensorflow:Done calling model_fn.\n",
            "INFO:tensorflow:Create CheckpointSaverHook.\n",
            "INFO:tensorflow:Graph was finalized.\n",
            "INFO:tensorflow:Running local_init_op.\n",
            "INFO:tensorflow:Done running local_init_op.\n",
            "INFO:tensorflow:Calling checkpoint listeners before saving checkpoint 0...\n",
            "INFO:tensorflow:Saving checkpoints for 0 into /tmp/tmplzkl50wt/model.ckpt.\n",
            "INFO:tensorflow:Calling checkpoint listeners after saving checkpoint 0...\n",
            "INFO:tensorflow:loss = 4.3982925, step = 0\n",
            "INFO:tensorflow:global_step/sec: 447.587\n",
            "INFO:tensorflow:loss = 2.7917013, step = 100 (0.227 sec)\n",
            "INFO:tensorflow:global_step/sec: 494.681\n",
            "INFO:tensorflow:loss = 2.3309045, step = 200 (0.200 sec)\n",
            "INFO:tensorflow:global_step/sec: 544.642\n",
            "INFO:tensorflow:loss = 1.9432701, step = 300 (0.185 sec)\n",
            "INFO:tensorflow:global_step/sec: 503.995\n",
            "INFO:tensorflow:loss = 1.6803267, step = 400 (0.198 sec)\n",
            "INFO:tensorflow:global_step/sec: 554.76\n",
            "INFO:tensorflow:loss = 1.5058851, step = 500 (0.184 sec)\n",
            "INFO:tensorflow:global_step/sec: 537.621\n",
            "INFO:tensorflow:loss = 1.3654348, step = 600 (0.186 sec)\n",
            "INFO:tensorflow:global_step/sec: 557.695\n",
            "INFO:tensorflow:loss = 1.2740729, step = 700 (0.177 sec)\n",
            "INFO:tensorflow:global_step/sec: 539.526\n",
            "INFO:tensorflow:loss = 1.1798346, step = 800 (0.185 sec)\n",
            "INFO:tensorflow:global_step/sec: 531.967\n",
            "INFO:tensorflow:loss = 1.1574717, step = 900 (0.188 sec)\n",
            "INFO:tensorflow:global_step/sec: 540.846\n",
            "INFO:tensorflow:loss = 1.1252364, step = 1000 (0.184 sec)\n",
            "INFO:tensorflow:global_step/sec: 560.674\n",
            "INFO:tensorflow:loss = 1.0995893, step = 1100 (0.179 sec)\n",
            "INFO:tensorflow:global_step/sec: 525.36\n",
            "INFO:tensorflow:loss = 1.0810852, step = 1200 (0.190 sec)\n",
            "INFO:tensorflow:global_step/sec: 493.083\n",
            "INFO:tensorflow:loss = 1.0551476, step = 1300 (0.203 sec)\n",
            "INFO:tensorflow:global_step/sec: 572.524\n",
            "INFO:tensorflow:loss = 1.0316772, step = 1400 (0.178 sec)\n",
            "INFO:tensorflow:global_step/sec: 559.186\n",
            "INFO:tensorflow:loss = 1.0462067, step = 1500 (0.179 sec)\n",
            "INFO:tensorflow:global_step/sec: 559.511\n",
            "INFO:tensorflow:loss = 0.9941807, step = 1600 (0.177 sec)\n",
            "INFO:tensorflow:global_step/sec: 548.785\n",
            "INFO:tensorflow:loss = 1.0122173, step = 1700 (0.180 sec)\n",
            "INFO:tensorflow:global_step/sec: 548.948\n",
            "INFO:tensorflow:loss = 1.0011923, step = 1800 (0.183 sec)\n",
            "INFO:tensorflow:global_step/sec: 535.439\n",
            "INFO:tensorflow:loss = 0.9609053, step = 1900 (0.190 sec)\n",
            "INFO:tensorflow:global_step/sec: 571.792\n",
            "INFO:tensorflow:loss = 0.9714958, step = 2000 (0.170 sec)\n",
            "INFO:tensorflow:global_step/sec: 572.466\n",
            "INFO:tensorflow:loss = 0.9685085, step = 2100 (0.178 sec)\n",
            "INFO:tensorflow:global_step/sec: 536.723\n",
            "INFO:tensorflow:loss = 0.96895015, step = 2200 (0.185 sec)\n",
            "INFO:tensorflow:global_step/sec: 526.048\n",
            "INFO:tensorflow:loss = 0.9407952, step = 2300 (0.188 sec)\n",
            "INFO:tensorflow:global_step/sec: 533.587\n",
            "INFO:tensorflow:loss = 0.9247078, step = 2400 (0.187 sec)\n",
            "INFO:tensorflow:global_step/sec: 548.848\n",
            "INFO:tensorflow:loss = 0.91015744, step = 2500 (0.184 sec)\n",
            "INFO:tensorflow:global_step/sec: 536.03\n",
            "INFO:tensorflow:loss = 0.91254365, step = 2600 (0.190 sec)\n",
            "INFO:tensorflow:global_step/sec: 490.698\n",
            "INFO:tensorflow:loss = 0.89716136, step = 2700 (0.202 sec)\n",
            "INFO:tensorflow:global_step/sec: 531.172\n",
            "INFO:tensorflow:loss = 0.88111466, step = 2800 (0.184 sec)\n",
            "INFO:tensorflow:global_step/sec: 484.42\n",
            "INFO:tensorflow:loss = 0.8807631, step = 2900 (0.210 sec)\n",
            "INFO:tensorflow:global_step/sec: 550.93\n",
            "INFO:tensorflow:loss = 0.87084675, step = 3000 (0.182 sec)\n",
            "INFO:tensorflow:global_step/sec: 525.057\n",
            "INFO:tensorflow:loss = 0.8683479, step = 3100 (0.187 sec)\n",
            "INFO:tensorflow:global_step/sec: 558.928\n",
            "INFO:tensorflow:loss = 0.8504971, step = 3200 (0.178 sec)\n",
            "INFO:tensorflow:global_step/sec: 554.895\n",
            "INFO:tensorflow:loss = 0.8432784, step = 3300 (0.186 sec)\n",
            "INFO:tensorflow:global_step/sec: 560.405\n",
            "INFO:tensorflow:loss = 0.8346776, step = 3400 (0.176 sec)\n",
            "INFO:tensorflow:global_step/sec: 537.61\n",
            "INFO:tensorflow:loss = 0.8410047, step = 3500 (0.183 sec)\n",
            "INFO:tensorflow:global_step/sec: 509.679\n",
            "INFO:tensorflow:loss = 0.8271184, step = 3600 (0.196 sec)\n",
            "INFO:tensorflow:global_step/sec: 525.276\n",
            "INFO:tensorflow:loss = 0.81799006, step = 3700 (0.191 sec)\n",
            "INFO:tensorflow:global_step/sec: 528.975\n",
            "INFO:tensorflow:loss = 0.8078827, step = 3800 (0.189 sec)\n",
            "INFO:tensorflow:global_step/sec: 555.84\n",
            "INFO:tensorflow:loss = 0.79982984, step = 3900 (0.180 sec)\n",
            "INFO:tensorflow:global_step/sec: 528.534\n",
            "INFO:tensorflow:loss = 0.79068184, step = 4000 (0.189 sec)\n",
            "INFO:tensorflow:global_step/sec: 561.111\n",
            "INFO:tensorflow:loss = 0.7838753, step = 4100 (0.181 sec)\n",
            "INFO:tensorflow:global_step/sec: 534.109\n",
            "INFO:tensorflow:loss = 0.7877465, step = 4200 (0.188 sec)\n",
            "INFO:tensorflow:global_step/sec: 543.539\n",
            "INFO:tensorflow:loss = 0.7745161, step = 4300 (0.180 sec)\n",
            "INFO:tensorflow:global_step/sec: 531.566\n",
            "INFO:tensorflow:loss = 0.7835771, step = 4400 (0.188 sec)\n",
            "INFO:tensorflow:global_step/sec: 504.797\n",
            "INFO:tensorflow:loss = 0.76883113, step = 4500 (0.201 sec)\n",
            "INFO:tensorflow:global_step/sec: 523.373\n",
            "INFO:tensorflow:loss = 0.7584437, step = 4600 (0.192 sec)\n",
            "INFO:tensorflow:global_step/sec: 491.681\n",
            "INFO:tensorflow:loss = 0.75866735, step = 4700 (0.202 sec)\n",
            "INFO:tensorflow:global_step/sec: 521.082\n",
            "INFO:tensorflow:loss = 0.7432891, step = 4800 (0.190 sec)\n",
            "INFO:tensorflow:global_step/sec: 475.838\n",
            "INFO:tensorflow:loss = 0.7559006, step = 4900 (0.214 sec)\n",
            "INFO:tensorflow:Calling checkpoint listeners before saving checkpoint 5000...\n",
            "INFO:tensorflow:Saving checkpoints for 5000 into /tmp/tmplzkl50wt/model.ckpt.\n",
            "INFO:tensorflow:Calling checkpoint listeners after saving checkpoint 5000...\n",
            "INFO:tensorflow:Loss for final step: 0.7322645.\n"
          ],
          "name": "stdout"
        },
        {
          "output_type": "execute_result",
          "data": {
            "text/plain": [
              "<tensorflow_estimator.python.estimator.canned.dnn.DNNClassifierV2 at 0x7ff55dc4a8d0>"
            ]
          },
          "metadata": {
            "tags": []
          },
          "execution_count": 10
        }
      ]
    },
    {
      "cell_type": "markdown",
      "metadata": {
        "id": "ybiTFDmlmes8"
      },
      "source": [
        "Estimator が期待するとおり、引数を取らない入力関数を指定しながら、`input_fn` 呼び出しを [`lambda`](https://docs.python.org/3/tutorial/controlflow.html) にラッピングして引数をキャプチャするところに注意してください。`steps` 引数はメソッドに対して、あるトレーニングステップ数を完了した後にトレーニングを停止するように指定しています。\n"
      ]
    },
    {
      "cell_type": "markdown",
      "metadata": {
        "id": "HNvJLH8hmsdf"
      },
      "source": [
        "### トレーニングされたモデルを評価する\n",
        "\n",
        "モデルのトレーニングが完了したので、そのパフォーマンスに関する統計を得ることができます。次のコードブロックは、テストデータに対してトレーニングされたモデルの精度を評価します。\n"
      ]
    },
    {
      "cell_type": "code",
      "metadata": {
        "id": "A169XuO4mKxF",
        "colab": {
          "base_uri": "https://localhost:8080/"
        },
        "outputId": "faa4409d-2c21-4957-f805-16578d7d7807"
      },
      "source": [
        "eval_result = classifier.evaluate(\n",
        "    input_fn=lambda: input_fn(test, test_y, training=False))\n",
        "\n",
        "print('\\nTest set accuracy: {accuracy:0.3f}\\n'.format(**eval_result))"
      ],
      "execution_count": null,
      "outputs": [
        {
          "output_type": "stream",
          "text": [
            "INFO:tensorflow:Calling model_fn.\n",
            "INFO:tensorflow:Done calling model_fn.\n",
            "INFO:tensorflow:Starting evaluation at 2021-03-05T03:10:55Z\n",
            "INFO:tensorflow:Graph was finalized.\n",
            "INFO:tensorflow:Restoring parameters from /tmp/tmplzkl50wt/model.ckpt-5000\n",
            "INFO:tensorflow:Running local_init_op.\n",
            "INFO:tensorflow:Done running local_init_op.\n",
            "INFO:tensorflow:Inference Time : 0.28841s\n",
            "INFO:tensorflow:Finished evaluation at 2021-03-05-03:10:56\n",
            "INFO:tensorflow:Saving dict for global step 5000: accuracy = 0.53333336, average_loss = 0.81180006, global_step = 5000, loss = 0.81180006\n",
            "INFO:tensorflow:Saving 'checkpoint_path' summary for global step 5000: /tmp/tmplzkl50wt/model.ckpt-5000\n",
            "\n",
            "Test set accuracy: 0.533\n",
            "\n"
          ],
          "name": "stdout"
        }
      ]
    },
    {
      "cell_type": "markdown",
      "metadata": {
        "id": "VnPMP5EHph17"
      },
      "source": [
        "`train` メソッドへの呼び出しとは異なり、評価する`steps` 引数を渡していません。eval の `input_fn` データの単一の[エポック](https://developers.google.com/machine-learning/glossary/#epoch)のみを返します。\n",
        "\n",
        "`eval_result` ディクショナリには、`average_loss`（サンプル当たりの平均損失）、`loss`（ミニバッチ当たりの平均損失）、および Estimator の `global_step` の値（実行したトレーニングイテレーションの回数）も含まれます。\n"
      ]
    },
    {
      "cell_type": "markdown",
      "metadata": {
        "id": "ur624ibpp52X"
      },
      "source": [
        "### トレーニングされたモデルから予測（推論）を立てる\n",
        "\n",
        "良質の評価結果を生み出すトレーニング済みのモデルを準備できました。これから、このトレーニング済みのモデルを使用し、ラベル付けできない測定に基づいてアヤメの品種を予測します。トレーニングと評価と同様に、単一の関数呼び出して予測を行います。"
      ]
    },
    {
      "cell_type": "code",
      "metadata": {
        "id": "wltc0jpgng38"
      },
      "source": [
        "# Generate predictions from the model\n",
        "expected = ['Setosa', 'Versicolor', 'Virginica']\n",
        "predict_x = {\n",
        "    'SepalLength': [5.1, 5.9, 6.9],\n",
        "    'SepalWidth': [3.3, 3.0, 3.1],\n",
        "    'PetalLength': [1.7, 4.2, 5.4],\n",
        "    'PetalWidth': [0.5, 1.5, 2.1],\n",
        "}\n",
        "\n",
        "def input_fn(features, batch_size=256):\n",
        "    \"\"\"An input function for prediction.\"\"\"\n",
        "    # Convert the inputs to a Dataset without labels.\n",
        "    return tf.data.Dataset.from_tensor_slices(dict(features)).batch(batch_size)\n",
        "\n",
        "predictions = classifier.predict(\n",
        "    input_fn=lambda: input_fn(predict_x))"
      ],
      "execution_count": null,
      "outputs": []
    },
    {
      "cell_type": "markdown",
      "metadata": {
        "id": "JsETKQo0rHvi"
      },
      "source": [
        "`predict` メソッドは Python イテラブルを返し、各サンプルの予測結果のディクショナリを生成します。次のコードを使って、予測とその確率を出力します。"
      ]
    },
    {
      "cell_type": "code",
      "metadata": {
        "id": "Efm4mLzkrCxp",
        "colab": {
          "base_uri": "https://localhost:8080/"
        },
        "outputId": "4aa99953-3f93-43ae-bd41-7f304754662e"
      },
      "source": [
        "for pred_dict, expec in zip(predictions, expected):\n",
        "    class_id = pred_dict['class_ids'][0]\n",
        "    probability = pred_dict['probabilities'][class_id]\n",
        "\n",
        "    print('Prediction is \"{}\" ({:.1f}%), expected \"{}\"'.format(\n",
        "        SPECIES[class_id], 100 * probability, expec))"
      ],
      "execution_count": null,
      "outputs": [
        {
          "output_type": "stream",
          "text": [
            "INFO:tensorflow:Calling model_fn.\n",
            "INFO:tensorflow:Done calling model_fn.\n",
            "INFO:tensorflow:Graph was finalized.\n",
            "INFO:tensorflow:Restoring parameters from /tmp/tmplzkl50wt/model.ckpt-5000\n",
            "INFO:tensorflow:Running local_init_op.\n",
            "INFO:tensorflow:Done running local_init_op.\n",
            "Prediction is \"Setosa\" (64.9%), expected \"Setosa\"\n",
            "Prediction is \"Setosa\" (38.2%), expected \"Versicolor\"\n",
            "Prediction is \"Virginica\" (41.0%), expected \"Virginica\"\n"
          ],
          "name": "stdout"
        }
      ]
    }
  ]
}
