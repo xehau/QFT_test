{
  "nbformat": 4,
  "nbformat_minor": 0,
  "metadata": {
    "accelerator": "GPU",
    "colab": {
      "name": "layers_weightnormalization.ipynb",
      "provenance": [],
      "collapsed_sections": [],
      "toc_visible": true,
      "include_colab_link": true
    },
    "kernelspec": {
      "display_name": "Python 3",
      "name": "python3"
    }
  },
  "cells": [
    {
      "cell_type": "markdown",
      "metadata": {
        "id": "view-in-github",
        "colab_type": "text"
      },
      "source": [
        "<a href=\"https://colab.research.google.com/github/xehau/xehau_lessons/blob/master/layers_weightnormalization.ipynb\" target=\"_parent\"><img src=\"https://colab.research.google.com/assets/colab-badge.svg\" alt=\"Open In Colab\"/></a>"
      ]
    },
    {
      "cell_type": "markdown",
      "metadata": {
        "id": "Tce3stUlHN0L"
      },
      "source": [
        "##### Copyright 2020 The TensorFlow Authors.\n"
      ]
    },
    {
      "cell_type": "code",
      "metadata": {
        "cellView": "form",
        "id": "tuOe1ymfHZPu"
      },
      "source": [
        "#@title Licensed under the Apache License, Version 2.0\n",
        "# you may not use this file except in compliance with the License.\n",
        "# You may obtain a copy of the License at\n",
        "#\n",
        "# https://www.apache.org/licenses/LICENSE-2.0\n",
        "#\n",
        "# Unless required by applicable law or agreed to in writing, software\n",
        "# distributed under the License is distributed on an \"AS IS\" BASIS,\n",
        "# WITHOUT WARRANTIES OR CONDITIONS OF ANY KIND, either express or implied.\n",
        "# See the License for the specific language governing permissions and\n",
        "# limitations under the License."
      ],
      "execution_count": null,
      "outputs": []
    },
    {
      "cell_type": "markdown",
      "metadata": {
        "id": "MfBg1C5NB3X0"
      },
      "source": [
        "# TensorFlow Addons Layers: WeightNormalization\n",
        "\n",
        "<table class=\"tfo-notebook-buttons\" align=\"left\">\n",
        "  <td>\n",
        "    <a target=\"_blank\" href=\"https://www.tensorflow.org/addons/tutorials/layers_weightnormalization\"><img src=\"https://www.tensorflow.org/images/tf_logo_32px.png\" />View on TensorFlow.org</a>\n",
        "  </td>\n",
        "  <td>\n",
        "    <a target=\"_blank\" href=\"https://colab.research.google.com/github/tensorflow/addons/blob/master/docs/tutorials/layers_weightnormalization.ipynb\"><img src=\"https://www.tensorflow.org/images/colab_logo_32px.png\" />Run in Google Colab</a>\n",
        "  </td>\n",
        "  <td>\n",
        "    <a target=\"_blank\" href=\"https://github.com/tensorflow/addons/blob/master/docs/tutorials/layers_weightnormalization.ipynb\"><img src=\"https://www.tensorflow.org/images/GitHub-Mark-32px.png\" />View source on GitHub</a>\n",
        "  </td>\n",
        "  <td>\n",
        "    <a href=\"https://storage.googleapis.com/tensorflow_docs/addons/docs/tutorials/layers_weightnormalization.ipynb\"><img src=\"https://www.tensorflow.org/images/download_logo_32px.png\" />Download notebook</a>\n",
        "  </td>\n",
        "</table>"
      ]
    },
    {
      "cell_type": "markdown",
      "metadata": {
        "id": "xHxb-dlhMIzW"
      },
      "source": [
        "## Overview\n",
        "\n",
        "This notebook will demonstrate how to use the Weight Normalization layer and how it can improve convergence.\n"
      ]
    },
    {
      "cell_type": "markdown",
      "metadata": {
        "id": "KR01t9v_fxbT"
      },
      "source": [
        "# WeightNormalization\n",
        "\n",
        "A Simple Reparameterization to Accelerate Training of Deep Neural Networks:\n",
        "\n",
        "Tim Salimans, Diederik P. Kingma (2016)\n",
        "\n",
        "> By reparameterizing the weights in this way you improve the conditioning of the optimization problem and speed up convergence of stochastic gradient descent. Our reparameterization is inspired by batch normalization but does not introduce any dependencies between the examples in a minibatch. This means that our method can also be applied successfully to recurrent models such as LSTMs and to noise-sensitive applications such as deep reinforcement learning or generative models, for which batch normalization is less well suited. Although our method is much simpler, it still provides much of the speed-up of full batch normalization. In addition, the computational overhead of our method is lower, permitting more optimization steps to be taken in the same amount of time.\n",
        "\n",
        "> https://arxiv.org/abs/1602.07868 \n",
        "\n",
        "<img src=\"https://raw.githubusercontent.com/seanpmorgan/tf-weightnorm/master/static/wrapped-graph.png\" width=\"80%\"><br><br>\n"
      ]
    },
    {
      "cell_type": "markdown",
      "metadata": {
        "id": "MUXex9ctTuDB"
      },
      "source": [
        "## Setup"
      ]
    },
    {
      "cell_type": "code",
      "metadata": {
        "id": "CyWHXw9mQ6mp",
        "colab": {
          "base_uri": "https://localhost:8080/"
        },
        "outputId": "e2a39cfa-f30e-40d9-9dcf-ee23b1b81caa"
      },
      "source": [
        "!pip install -U tensorflow-addons"
      ],
      "execution_count": null,
      "outputs": [
        {
          "output_type": "stream",
          "text": [
            "Collecting tensorflow-addons\n",
            "\u001b[?25l  Downloading https://files.pythonhosted.org/packages/74/e3/56d2fe76f0bb7c88ed9b2a6a557e25e83e252aec08f13de34369cd850a0b/tensorflow_addons-0.12.1-cp37-cp37m-manylinux2010_x86_64.whl (703kB)\n",
            "\r\u001b[K     |▌                               | 10kB 22.5MB/s eta 0:00:01\r\u001b[K     |█                               | 20kB 15.6MB/s eta 0:00:01\r\u001b[K     |█▍                              | 30kB 13.7MB/s eta 0:00:01\r\u001b[K     |█▉                              | 40kB 12.6MB/s eta 0:00:01\r\u001b[K     |██▎                             | 51kB 7.9MB/s eta 0:00:01\r\u001b[K     |██▉                             | 61kB 8.7MB/s eta 0:00:01\r\u001b[K     |███▎                            | 71kB 8.5MB/s eta 0:00:01\r\u001b[K     |███▊                            | 81kB 9.0MB/s eta 0:00:01\r\u001b[K     |████▏                           | 92kB 9.1MB/s eta 0:00:01\r\u001b[K     |████▋                           | 102kB 7.6MB/s eta 0:00:01\r\u001b[K     |█████▏                          | 112kB 7.6MB/s eta 0:00:01\r\u001b[K     |█████▋                          | 122kB 7.6MB/s eta 0:00:01\r\u001b[K     |██████                          | 133kB 7.6MB/s eta 0:00:01\r\u001b[K     |██████▌                         | 143kB 7.6MB/s eta 0:00:01\r\u001b[K     |███████                         | 153kB 7.6MB/s eta 0:00:01\r\u001b[K     |███████▌                        | 163kB 7.6MB/s eta 0:00:01\r\u001b[K     |████████                        | 174kB 7.6MB/s eta 0:00:01\r\u001b[K     |████████▍                       | 184kB 7.6MB/s eta 0:00:01\r\u001b[K     |████████▉                       | 194kB 7.6MB/s eta 0:00:01\r\u001b[K     |█████████▎                      | 204kB 7.6MB/s eta 0:00:01\r\u001b[K     |█████████▉                      | 215kB 7.6MB/s eta 0:00:01\r\u001b[K     |██████████▎                     | 225kB 7.6MB/s eta 0:00:01\r\u001b[K     |██████████▊                     | 235kB 7.6MB/s eta 0:00:01\r\u001b[K     |███████████▏                    | 245kB 7.6MB/s eta 0:00:01\r\u001b[K     |███████████▋                    | 256kB 7.6MB/s eta 0:00:01\r\u001b[K     |████████████▏                   | 266kB 7.6MB/s eta 0:00:01\r\u001b[K     |████████████▋                   | 276kB 7.6MB/s eta 0:00:01\r\u001b[K     |█████████████                   | 286kB 7.6MB/s eta 0:00:01\r\u001b[K     |█████████████▌                  | 296kB 7.6MB/s eta 0:00:01\r\u001b[K     |██████████████                  | 307kB 7.6MB/s eta 0:00:01\r\u001b[K     |██████████████▍                 | 317kB 7.6MB/s eta 0:00:01\r\u001b[K     |███████████████                 | 327kB 7.6MB/s eta 0:00:01\r\u001b[K     |███████████████▍                | 337kB 7.6MB/s eta 0:00:01\r\u001b[K     |███████████████▉                | 348kB 7.6MB/s eta 0:00:01\r\u001b[K     |████████████████▎               | 358kB 7.6MB/s eta 0:00:01\r\u001b[K     |████████████████▊               | 368kB 7.6MB/s eta 0:00:01\r\u001b[K     |█████████████████▎              | 378kB 7.6MB/s eta 0:00:01\r\u001b[K     |█████████████████▊              | 389kB 7.6MB/s eta 0:00:01\r\u001b[K     |██████████████████▏             | 399kB 7.6MB/s eta 0:00:01\r\u001b[K     |██████████████████▋             | 409kB 7.6MB/s eta 0:00:01\r\u001b[K     |███████████████████             | 419kB 7.6MB/s eta 0:00:01\r\u001b[K     |███████████████████▋            | 430kB 7.6MB/s eta 0:00:01\r\u001b[K     |████████████████████            | 440kB 7.6MB/s eta 0:00:01\r\u001b[K     |████████████████████▌           | 450kB 7.6MB/s eta 0:00:01\r\u001b[K     |█████████████████████           | 460kB 7.6MB/s eta 0:00:01\r\u001b[K     |█████████████████████▍          | 471kB 7.6MB/s eta 0:00:01\r\u001b[K     |██████████████████████          | 481kB 7.6MB/s eta 0:00:01\r\u001b[K     |██████████████████████▍         | 491kB 7.6MB/s eta 0:00:01\r\u001b[K     |██████████████████████▉         | 501kB 7.6MB/s eta 0:00:01\r\u001b[K     |███████████████████████▎        | 512kB 7.6MB/s eta 0:00:01\r\u001b[K     |███████████████████████▊        | 522kB 7.6MB/s eta 0:00:01\r\u001b[K     |████████████████████████▎       | 532kB 7.6MB/s eta 0:00:01\r\u001b[K     |████████████████████████▊       | 542kB 7.6MB/s eta 0:00:01\r\u001b[K     |█████████████████████████▏      | 552kB 7.6MB/s eta 0:00:01\r\u001b[K     |█████████████████████████▋      | 563kB 7.6MB/s eta 0:00:01\r\u001b[K     |██████████████████████████      | 573kB 7.6MB/s eta 0:00:01\r\u001b[K     |██████████████████████████▋     | 583kB 7.6MB/s eta 0:00:01\r\u001b[K     |███████████████████████████     | 593kB 7.6MB/s eta 0:00:01\r\u001b[K     |███████████████████████████▌    | 604kB 7.6MB/s eta 0:00:01\r\u001b[K     |████████████████████████████    | 614kB 7.6MB/s eta 0:00:01\r\u001b[K     |████████████████████████████▍   | 624kB 7.6MB/s eta 0:00:01\r\u001b[K     |████████████████████████████▉   | 634kB 7.6MB/s eta 0:00:01\r\u001b[K     |█████████████████████████████▍  | 645kB 7.6MB/s eta 0:00:01\r\u001b[K     |█████████████████████████████▉  | 655kB 7.6MB/s eta 0:00:01\r\u001b[K     |██████████████████████████████▎ | 665kB 7.6MB/s eta 0:00:01\r\u001b[K     |██████████████████████████████▊ | 675kB 7.6MB/s eta 0:00:01\r\u001b[K     |███████████████████████████████▏| 686kB 7.6MB/s eta 0:00:01\r\u001b[K     |███████████████████████████████▊| 696kB 7.6MB/s eta 0:00:01\r\u001b[K     |████████████████████████████████| 706kB 7.6MB/s \n",
            "\u001b[?25hRequirement already satisfied, skipping upgrade: typeguard>=2.7 in /usr/local/lib/python3.7/dist-packages (from tensorflow-addons) (2.7.1)\n",
            "Installing collected packages: tensorflow-addons\n",
            "Successfully installed tensorflow-addons-0.12.1\n"
          ],
          "name": "stdout"
        }
      ]
    },
    {
      "cell_type": "code",
      "metadata": {
        "id": "OywLbs7EXiE_"
      },
      "source": [
        "import tensorflow as tf\n",
        "import tensorflow_addons as tfa"
      ],
      "execution_count": null,
      "outputs": []
    },
    {
      "cell_type": "code",
      "metadata": {
        "id": "KQMhhq1qXiFF"
      },
      "source": [
        "import numpy as np\n",
        "from matplotlib import pyplot as plt"
      ],
      "execution_count": null,
      "outputs": []
    },
    {
      "cell_type": "code",
      "metadata": {
        "id": "ULWHqMAnTVZD"
      },
      "source": [
        "# Hyper Parameters\n",
        "batch_size = 32\n",
        "epochs = 10\n",
        "num_classes=10"
      ],
      "execution_count": null,
      "outputs": []
    },
    {
      "cell_type": "markdown",
      "metadata": {
        "id": "fhM0ieDpSnKh"
      },
      "source": [
        "## Build Models"
      ]
    },
    {
      "cell_type": "code",
      "metadata": {
        "id": "7XZXnBYgRPSk"
      },
      "source": [
        "# Standard ConvNet\n",
        "reg_model = tf.keras.Sequential([\n",
        "    tf.keras.layers.Conv2D(6, 5, activation='relu'),\n",
        "    tf.keras.layers.MaxPooling2D(2, 2),\n",
        "    tf.keras.layers.Conv2D(16, 5, activation='relu'),\n",
        "    tf.keras.layers.MaxPooling2D(2, 2),\n",
        "    tf.keras.layers.Flatten(),\n",
        "    tf.keras.layers.Dense(120, activation='relu'),\n",
        "    tf.keras.layers.Dense(84, activation='relu'),\n",
        "    tf.keras.layers.Dense(num_classes, activation='softmax'),\n",
        "])"
      ],
      "execution_count": null,
      "outputs": []
    },
    {
      "cell_type": "code",
      "metadata": {
        "id": "UZd6V90eR4Gm"
      },
      "source": [
        "# WeightNorm ConvNet\n",
        "wn_model = tf.keras.Sequential([\n",
        "    tfa.layers.WeightNormalization(tf.keras.layers.Conv2D(6, 5, activation='relu')),\n",
        "    tf.keras.layers.MaxPooling2D(2, 2),\n",
        "    tfa.layers.WeightNormalization(tf.keras.layers.Conv2D(16, 5, activation='relu')),\n",
        "    tf.keras.layers.MaxPooling2D(2, 2),\n",
        "    tf.keras.layers.Flatten(),\n",
        "    tfa.layers.WeightNormalization(tf.keras.layers.Dense(120, activation='relu')),\n",
        "    tfa.layers.WeightNormalization(tf.keras.layers.Dense(84, activation='relu')),\n",
        "    tfa.layers.WeightNormalization(tf.keras.layers.Dense(num_classes, activation='softmax')),\n",
        "])"
      ],
      "execution_count": null,
      "outputs": []
    },
    {
      "cell_type": "markdown",
      "metadata": {
        "id": "AA5dti8AS2Y7"
      },
      "source": [
        "## Load Data"
      ]
    },
    {
      "cell_type": "code",
      "metadata": {
        "id": "L8Isjc7W8MEn",
        "colab": {
          "base_uri": "https://localhost:8080/"
        },
        "outputId": "aa7eab55-a83a-4897-a906-82babe508320"
      },
      "source": [
        "(x_train, y_train), (x_test, y_test) = tf.keras.datasets.cifar10.load_data()\n",
        "\n",
        "# Convert class vectors to binary class matrices.\n",
        "y_train = tf.keras.utils.to_categorical(y_train, num_classes)\n",
        "y_test = tf.keras.utils.to_categorical(y_test, num_classes)\n",
        "\n",
        "x_train = x_train.astype('float32')\n",
        "x_test = x_test.astype('float32')\n",
        "x_train /= 255\n",
        "x_test /= 255"
      ],
      "execution_count": null,
      "outputs": [
        {
          "output_type": "stream",
          "text": [
            "Downloading data from https://www.cs.toronto.edu/~kriz/cifar-10-python.tar.gz\n",
            "170500096/170498071 [==============================] - 3s 0us/step\n"
          ],
          "name": "stdout"
        }
      ]
    },
    {
      "cell_type": "markdown",
      "metadata": {
        "id": "cH1CG9E7S34C"
      },
      "source": [
        "## Train Models"
      ]
    },
    {
      "cell_type": "code",
      "metadata": {
        "id": "EvNKxfaI7vSm",
        "colab": {
          "base_uri": "https://localhost:8080/"
        },
        "outputId": "92ab7d67-e31a-4e3f-81cb-51cdca6d626c"
      },
      "source": [
        "reg_model.compile(optimizer='adam', \n",
        "                  loss='categorical_crossentropy',\n",
        "                  metrics=['accuracy'])\n",
        "\n",
        "reg_history = reg_model.fit(x_train, y_train,\n",
        "                            batch_size=batch_size,\n",
        "                            epochs=epochs,\n",
        "                            validation_data=(x_test, y_test),\n",
        "                            shuffle=True)"
      ],
      "execution_count": null,
      "outputs": [
        {
          "output_type": "stream",
          "text": [
            "Epoch 1/10\n",
            "1563/1563 [==============================] - 39s 4ms/step - loss: 1.8411 - accuracy: 0.3287 - val_loss: 1.3892 - val_accuracy: 0.5036\n",
            "Epoch 2/10\n",
            "1563/1563 [==============================] - 6s 4ms/step - loss: 1.3878 - accuracy: 0.4994 - val_loss: 1.3418 - val_accuracy: 0.5159\n",
            "Epoch 3/10\n",
            "1563/1563 [==============================] - 6s 4ms/step - loss: 1.2581 - accuracy: 0.5491 - val_loss: 1.2412 - val_accuracy: 0.5585\n",
            "Epoch 4/10\n",
            "1563/1563 [==============================] - 6s 4ms/step - loss: 1.1705 - accuracy: 0.5790 - val_loss: 1.1555 - val_accuracy: 0.5991\n",
            "Epoch 5/10\n",
            "1563/1563 [==============================] - 6s 4ms/step - loss: 1.0890 - accuracy: 0.6143 - val_loss: 1.1524 - val_accuracy: 0.5917\n",
            "Epoch 6/10\n",
            "1563/1563 [==============================] - 6s 4ms/step - loss: 1.0356 - accuracy: 0.6328 - val_loss: 1.1244 - val_accuracy: 0.6011\n",
            "Epoch 7/10\n",
            "1563/1563 [==============================] - 6s 4ms/step - loss: 0.9827 - accuracy: 0.6496 - val_loss: 1.1379 - val_accuracy: 0.6058\n",
            "Epoch 8/10\n",
            "1563/1563 [==============================] - 6s 4ms/step - loss: 0.9403 - accuracy: 0.6674 - val_loss: 1.1056 - val_accuracy: 0.6191\n",
            "Epoch 9/10\n",
            "1563/1563 [==============================] - 6s 4ms/step - loss: 0.8954 - accuracy: 0.6840 - val_loss: 1.1314 - val_accuracy: 0.6116\n",
            "Epoch 10/10\n",
            "1563/1563 [==============================] - 6s 4ms/step - loss: 0.8620 - accuracy: 0.6971 - val_loss: 1.1307 - val_accuracy: 0.6136\n"
          ],
          "name": "stdout"
        }
      ]
    },
    {
      "cell_type": "code",
      "metadata": {
        "id": "esmMh-5g7wmp",
        "colab": {
          "base_uri": "https://localhost:8080/"
        },
        "outputId": "619a1eaa-468b-4615-aa52-d221bc3a0921"
      },
      "source": [
        "wn_model.compile(optimizer='adam', \n",
        "                 loss='categorical_crossentropy',\n",
        "                 metrics=['accuracy'])\n",
        "\n",
        "wn_history = wn_model.fit(x_train, y_train,\n",
        "                          batch_size=batch_size,\n",
        "                          epochs=epochs,\n",
        "                          validation_data=(x_test, y_test),\n",
        "                          shuffle=True)"
      ],
      "execution_count": null,
      "outputs": [
        {
          "output_type": "stream",
          "text": [
            "Epoch 1/10\n",
            "1563/1563 [==============================] - 13s 7ms/step - loss: 1.7836 - accuracy: 0.3523 - val_loss: 1.4255 - val_accuracy: 0.4863\n",
            "Epoch 2/10\n",
            "1563/1563 [==============================] - 10s 6ms/step - loss: 1.3641 - accuracy: 0.5092 - val_loss: 1.3132 - val_accuracy: 0.5295\n",
            "Epoch 3/10\n",
            "1563/1563 [==============================] - 11s 7ms/step - loss: 1.2461 - accuracy: 0.5562 - val_loss: 1.2491 - val_accuracy: 0.5521\n",
            "Epoch 4/10\n",
            "1563/1563 [==============================] - 11s 7ms/step - loss: 1.1498 - accuracy: 0.5914 - val_loss: 1.2155 - val_accuracy: 0.5674\n",
            "Epoch 5/10\n",
            "1563/1563 [==============================] - 11s 7ms/step - loss: 1.0829 - accuracy: 0.6152 - val_loss: 1.1611 - val_accuracy: 0.5841\n",
            "Epoch 6/10\n",
            "1563/1563 [==============================] - 10s 7ms/step - loss: 1.0126 - accuracy: 0.6397 - val_loss: 1.1565 - val_accuracy: 0.5918\n",
            "Epoch 7/10\n",
            "1563/1563 [==============================] - 10s 6ms/step - loss: 0.9625 - accuracy: 0.6589 - val_loss: 1.1501 - val_accuracy: 0.5941\n",
            "Epoch 8/10\n",
            "1563/1563 [==============================] - 10s 6ms/step - loss: 0.9170 - accuracy: 0.6747 - val_loss: 1.1315 - val_accuracy: 0.6049\n",
            "Epoch 9/10\n",
            "1563/1563 [==============================] - 11s 7ms/step - loss: 0.8733 - accuracy: 0.6929 - val_loss: 1.1704 - val_accuracy: 0.6037\n",
            "Epoch 10/10\n",
            "1563/1563 [==============================] - 10s 7ms/step - loss: 0.8341 - accuracy: 0.7052 - val_loss: 1.1700 - val_accuracy: 0.5952\n"
          ],
          "name": "stdout"
        }
      ]
    },
    {
      "cell_type": "code",
      "metadata": {
        "id": "yujf2YRbwX55",
        "colab": {
          "base_uri": "https://localhost:8080/",
          "height": 281
        },
        "outputId": "3e9cad1f-eec5-4b00-9e92-ca340f03d67a"
      },
      "source": [
        "reg_accuracy = reg_history.history['accuracy']\n",
        "wn_accuracy = wn_history.history['accuracy']\n",
        "\n",
        "plt.plot(np.linspace(0, epochs,  epochs), reg_accuracy,\n",
        "             color='red', label='Regular ConvNet')\n",
        "\n",
        "plt.plot(np.linspace(0, epochs, epochs), wn_accuracy,\n",
        "         color='blue', label='WeightNorm ConvNet')\n",
        "\n",
        "plt.title('WeightNorm Accuracy Comparison')\n",
        "plt.legend()\n",
        "plt.grid(True)\n",
        "plt.show()"
      ],
      "execution_count": null,
      "outputs": [
        {
          "output_type": "display_data",
          "data": {
            "image/png": "[encoded data removed]",
            "text/plain": [
              "<Figure size 432x288 with 1 Axes>"
            ]
          },
          "metadata": {
            "tags": [],
            "needs_background": "light"
          }
        }
      ]
    }
  ]
}
