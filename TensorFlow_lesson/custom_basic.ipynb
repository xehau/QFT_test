{
  "nbformat": 4,
  "nbformat_minor": 0,
  "metadata": {
    "colab": {
      "name": "custom_basic.ipynb",
      "provenance": [],
      "authorship_tag": "ABX9TyOQYhUTabYvPenzA8kVl+ub",
      "include_colab_link": true
    },
    "kernelspec": {
      "name": "python3",
      "display_name": "Python 3"
    }
  },
  "cells": [
    {
      "cell_type": "markdown",
      "metadata": {
        "id": "view-in-github",
        "colab_type": "text"
      },
      "source": [
        "<a href=\"https://colab.research.google.com/github/xehau/xehau_lessons/blob/master/custom_basic.ipynb\" target=\"_parent\"><img src=\"https://colab.research.google.com/assets/colab-badge.svg\" alt=\"Open In Colab\"/></a>"
      ]
    },
    {
      "cell_type": "code",
      "metadata": {
        "id": "BVtx76tkxTPC"
      },
      "source": [
        "import tensorflow as tf"
      ],
      "execution_count": null,
      "outputs": []
    },
    {
      "cell_type": "code",
      "metadata": {
        "colab": {
          "base_uri": "https://localhost:8080/"
        },
        "id": "-Z5gJkKZxfIN",
        "outputId": "0742a444-93bf-4f1e-a446-9855913a7e9e"
      },
      "source": [
        "# Python の状態を使う\r\n",
        "x = tf.zeros([10, 10])\r\n",
        "x += 2  # これは x = x + 2 と等価で, x の元の値を変えているわけではない\r\n",
        "\r\n",
        "print(x)"
      ],
      "execution_count": null,
      "outputs": [
        {
          "output_type": "stream",
          "text": [
            "tf.Tensor(\n",
            "[[2. 2. 2. 2. 2. 2. 2. 2. 2. 2.]\n",
            " [2. 2. 2. 2. 2. 2. 2. 2. 2. 2.]\n",
            " [2. 2. 2. 2. 2. 2. 2. 2. 2. 2.]\n",
            " [2. 2. 2. 2. 2. 2. 2. 2. 2. 2.]\n",
            " [2. 2. 2. 2. 2. 2. 2. 2. 2. 2.]\n",
            " [2. 2. 2. 2. 2. 2. 2. 2. 2. 2.]\n",
            " [2. 2. 2. 2. 2. 2. 2. 2. 2. 2.]\n",
            " [2. 2. 2. 2. 2. 2. 2. 2. 2. 2.]\n",
            " [2. 2. 2. 2. 2. 2. 2. 2. 2. 2.]\n",
            " [2. 2. 2. 2. 2. 2. 2. 2. 2. 2.]], shape=(10, 10), dtype=float32)\n"
          ],
          "name": "stdout"
        }
      ]
    },
    {
      "cell_type": "code",
      "metadata": {
        "id": "BhxUNqH5xpSE"
      },
      "source": [
        "v = tf.Variable(1.0)\r\n",
        "# Python の `assert` を条件をテストするデバッグ文として使用\r\n",
        "assert v.numpy() == 1.0\r\n",
        "\r\n",
        "# `v` に値を再代入\r\n",
        "v.assign(3.0)\r\n",
        "assert v.numpy() == 3.0\r\n",
        "\r\n",
        "# `v` に TensorFlow の `tf.square()` 演算を適用し再代入\r\n",
        "v.assign(tf.square(v))\r\n",
        "assert v.numpy() == 9.0"
      ],
      "execution_count": null,
      "outputs": []
    },
    {
      "cell_type": "code",
      "metadata": {
        "id": "CWkSDv5TxutD"
      },
      "source": [
        "class Model(object):\r\n",
        "  def __init__(self):\r\n",
        "    # 重みを `5.0` に、バイアスを  `0.0` に初期化\r\n",
        "    # 実際には、これらの値は乱数で初期化するべき（例えば `tf.random.normal` を使って）\r\n",
        "    self.W = tf.Variable(5.0)\r\n",
        "    self.b = tf.Variable(0.0)\r\n",
        "\r\n",
        "  def __call__(self, x):\r\n",
        "    return self.W * x + self.b\r\n",
        "\r\n",
        "model = Model()\r\n",
        "\r\n",
        "assert model(3.0).numpy() == 15.0"
      ],
      "execution_count": null,
      "outputs": []
    },
    {
      "cell_type": "code",
      "metadata": {
        "id": "1apqPj4vxzxk"
      },
      "source": [
        "def loss(predicted_y, target_y):\r\n",
        "  return tf.reduce_mean(tf.square(predicted_y - target_y))"
      ],
      "execution_count": null,
      "outputs": []
    },
    {
      "cell_type": "code",
      "metadata": {
        "id": "k46tBnDPx5QD"
      },
      "source": [
        "TRUE_W = 3.0\r\n",
        "TRUE_b = 2.0\r\n",
        "NUM_EXAMPLES = 1000\r\n",
        "\r\n",
        "inputs  = tf.random.normal(shape=[NUM_EXAMPLES])\r\n",
        "noise   = tf.random.normal(shape=[NUM_EXAMPLES])\r\n",
        "outputs = inputs * TRUE_W + TRUE_b + noise"
      ],
      "execution_count": null,
      "outputs": []
    },
    {
      "cell_type": "code",
      "metadata": {
        "colab": {
          "base_uri": "https://localhost:8080/",
          "height": 282
        },
        "id": "osEqPRkpx91L",
        "outputId": "976e3de6-b38a-4c13-a22d-cdd480211820"
      },
      "source": [
        "import matplotlib.pyplot as plt\r\n",
        "\r\n",
        "plt.scatter(inputs, outputs, c='b')\r\n",
        "plt.scatter(inputs, model(inputs), c='r')\r\n",
        "plt.show()\r\n",
        "\r\n",
        "print('Current loss: %1.6f' % loss(model(inputs), outputs).numpy())\r\n"
      ],
      "execution_count": null,
      "outputs": [
        {
          "output_type": "display_data",
          "data": {
            "image/png": "[encoded data removed]",
            "text/plain": [
              "<Figure size 432x288 with 1 Axes>"
            ]
          },
          "metadata": {
            "tags": [],
            "needs_background": "light"
          }
        },
        {
          "output_type": "stream",
          "text": [
            "Current loss: 8.559934\n"
          ],
          "name": "stdout"
        }
      ]
    },
    {
      "cell_type": "code",
      "metadata": {
        "id": "tPLc0e_MyE9j"
      },
      "source": [
        "def train(model, inputs, outputs, learning_rate):\r\n",
        "  with tf.GradientTape() as t:\r\n",
        "    current_loss = loss(model(inputs), outputs)\r\n",
        "  dW, db = t.gradient(current_loss, [model.W, model.b])\r\n",
        "  model.W.assign_sub(learning_rate * dW)\r\n",
        "  model.b.assign_sub(learning_rate * db)"
      ],
      "execution_count": null,
      "outputs": []
    },
    {
      "cell_type": "code",
      "metadata": {
        "colab": {
          "base_uri": "https://localhost:8080/",
          "height": 441
        },
        "id": "pf_cn23uyJ5S",
        "outputId": "f45712e5-cbac-4ad7-d677-c3ed70da6816"
      },
      "source": [
        "model = Model()\r\n",
        "\r\n",
        "# 後ほどプロットするために、W 値と b 値の履歴を集める\r\n",
        "Ws, bs = [], []\r\n",
        "epochs = range(10)\r\n",
        "for epoch in epochs:\r\n",
        "  Ws.append(model.W.numpy())\r\n",
        "  bs.append(model.b.numpy())\r\n",
        "  current_loss = loss(model(inputs), outputs)\r\n",
        "\r\n",
        "  train(model, inputs, outputs, learning_rate=0.1)\r\n",
        "  print('Epoch %2d: W=%1.2f b=%1.2f, loss=%2.5f' %\r\n",
        "        (epoch, Ws[-1], bs[-1], current_loss))\r\n",
        "\r\n",
        "# すべてをプロット\r\n",
        "plt.plot(epochs, Ws, 'r',\r\n",
        "         epochs, bs, 'b')\r\n",
        "plt.plot([TRUE_W] * len(epochs), 'r--',\r\n",
        "         [TRUE_b] * len(epochs), 'b--')\r\n",
        "plt.legend(['W', 'b', 'True W', 'True b'])\r\n",
        "plt.show()"
      ],
      "execution_count": null,
      "outputs": [
        {
          "output_type": "stream",
          "text": [
            "Epoch  0: W=5.00 b=0.00, loss=8.55993\n",
            "Epoch  1: W=4.64 b=0.39, loss=5.99930\n",
            "Epoch  2: W=4.34 b=0.70, loss=4.30716\n",
            "Epoch  3: W=4.10 b=0.96, loss=3.18884\n",
            "Epoch  4: W=3.90 b=1.17, loss=2.44969\n",
            "Epoch  5: W=3.74 b=1.33, loss=1.96111\n",
            "Epoch  6: W=3.61 b=1.47, loss=1.63813\n",
            "Epoch  7: W=3.50 b=1.58, loss=1.42461\n",
            "Epoch  8: W=3.41 b=1.67, loss=1.28344\n",
            "Epoch  9: W=3.34 b=1.74, loss=1.19011\n"
          ],
          "name": "stdout"
        },
        {
          "output_type": "display_data",
          "data": {
            "image/png": "[encoded data removed]",
            "text/plain": [
              "<Figure size 432x288 with 1 Axes>"
            ]
          },
          "metadata": {
            "tags": [],
            "needs_background": "light"
          }
        }
      ]
    }
  ]
}
