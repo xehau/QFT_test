{
  "nbformat": 4,
  "nbformat_minor": 0,
  "metadata": {
    "colab": {
      "name": "PyCUDA_test.ipynb",
      "provenance": [],
      "authorship_tag": "ABX9TyO3RHmKWhfWvErx24syyfKH",
      "include_colab_link": true
    },
    "kernelspec": {
      "name": "python3",
      "display_name": "Python 3"
    },
    "accelerator": "GPU"
  },
  "cells": [
    {
      "cell_type": "markdown",
      "metadata": {
        "id": "view-in-github",
        "colab_type": "text"
      },
      "source": [
        "<a href=\"https://colab.research.google.com/github/xehau/xehau_lessons/blob/master/PyCUDA_test.ipynb\" target=\"_parent\"><img src=\"https://colab.research.google.com/assets/colab-badge.svg\" alt=\"Open In Colab\"/></a>"
      ]
    },
    {
      "cell_type": "code",
      "metadata": {
        "colab": {
          "base_uri": "https://localhost:8080/"
        },
        "id": "RNAm5PhyX3yS",
        "outputId": "a3698928-263b-4957-bc53-00ae826317cb"
      },
      "source": [
        "pip install -U pycuda"
      ],
      "execution_count": 1,
      "outputs": [
        {
          "output_type": "stream",
          "text": [
            "Collecting pycuda\n",
            "\u001b[?25l  Downloading https://files.pythonhosted.org/packages/46/61/47d3235a4c13eec5a5f03594ddb268f4858734e02980afbcd806e6242fa5/pycuda-2020.1.tar.gz (1.6MB)\n",
            "\u001b[K     |████████████████████████████████| 1.6MB 7.7MB/s \n",
            "\u001b[?25hCollecting pytools>=2011.2\n",
            "\u001b[?25l  Downloading https://files.pythonhosted.org/packages/46/8a/149fa553998155f0a90d92cdbbc60f6c998cc9ad5fe0441b2b82628d001a/pytools-2021.1.tar.gz (62kB)\n",
            "\u001b[K     |████████████████████████████████| 71kB 9.5MB/s \n",
            "\u001b[?25hRequirement already satisfied, skipping upgrade: decorator>=3.2.0 in /usr/local/lib/python3.7/dist-packages (from pycuda) (4.4.2)\n",
            "Requirement already satisfied, skipping upgrade: appdirs>=1.4.0 in /usr/local/lib/python3.7/dist-packages (from pycuda) (1.4.4)\n",
            "Collecting mako\n",
            "\u001b[?25l  Downloading https://files.pythonhosted.org/packages/5c/db/2d2d88b924aa4674a080aae83b59ea19d593250bfe5ed789947c21736785/Mako-1.1.4.tar.gz (479kB)\n",
            "\u001b[K     |████████████████████████████████| 481kB 33.7MB/s \n",
            "\u001b[?25hRequirement already satisfied, skipping upgrade: numpy>=1.6.0 in /usr/local/lib/python3.7/dist-packages (from pytools>=2011.2->pycuda) (1.19.5)\n",
            "Requirement already satisfied, skipping upgrade: MarkupSafe>=0.9.2 in /usr/local/lib/python3.7/dist-packages (from mako->pycuda) (1.1.1)\n",
            "Building wheels for collected packages: pycuda, pytools, mako\n",
            "  Building wheel for pycuda (setup.py) ... \u001b[?25l\u001b[?25hdone\n",
            "  Created wheel for pycuda: filename=pycuda-2020.1-cp37-cp37m-linux_x86_64.whl size=621061 sha256=6e9b71d86c9fc6113eea79e935a216b1892000679a5543e1ac1a823a1d220ea4\n",
            "  Stored in directory: /root/.cache/pip/wheels/8f/78/d1/5bb826f81d9d490297a348d818ff3ee6dd6f2075b06dde6ea0\n",
            "  Building wheel for pytools (setup.py) ... \u001b[?25l\u001b[?25hdone\n",
            "  Created wheel for pytools: filename=pytools-2021.1-py2.py3-none-any.whl size=60415 sha256=666e87cd283f5351d6993b6cedc2e93627c830bcc692356b671ee5ac66df4523\n",
            "  Stored in directory: /root/.cache/pip/wheels/5d/85/10/7da05d77b47f2cb503e5c4185ba82187d0b6b6736b3c6641e0\n",
            "  Building wheel for mako (setup.py) ... \u001b[?25l\u001b[?25hdone\n",
            "  Created wheel for mako: filename=Mako-1.1.4-py2.py3-none-any.whl size=75675 sha256=df4968a6735b0e4d3fe18c38887a34a4e7b43980cdfd05dbed07b35a367dd426\n",
            "  Stored in directory: /root/.cache/pip/wheels/ad/10/d3/aeb26e20d19045e2a68e5d3cbb57432e11b5d9c92c99f98d47\n",
            "Successfully built pycuda pytools mako\n",
            "Installing collected packages: pytools, mako, pycuda\n",
            "Successfully installed mako-1.1.4 pycuda-2020.1 pytools-2021.1\n"
          ],
          "name": "stdout"
        }
      ]
    },
    {
      "cell_type": "code",
      "metadata": {
        "colab": {
          "base_uri": "https://localhost:8080/"
        },
        "id": "e_LqFUw6djOV",
        "outputId": "778f8f0c-2a6f-40e8-a994-20ec7a04e227"
      },
      "source": [
        "import numpy as np\r\n",
        "import pycuda.autoinit\r\n",
        "import pycuda.driver as cuda\r\n",
        "import pycuda.gpuarray as gpuarray\r\n",
        "\r\n",
        "# 乱数配列を生成→GPUのメモリーを割いてデータを渡す\r\n",
        "rand_array = np.random.randn(5, 5)\r\n",
        "array_gpu = gpuarray.to_gpu(rand_array)\r\n",
        "# 生成した配列の2乗の結果を取得\r\n",
        "result = (array_gpu ** 2).get()\r\n",
        "\r\n",
        "print(result)"
      ],
      "execution_count": 2,
      "outputs": [
        {
          "output_type": "stream",
          "text": [
            "[[0.53492861 0.04426081 1.63273254 1.11164239 0.46195167]\n",
            " [0.99334377 0.66040902 0.16451304 0.07750924 0.10465339]\n",
            " [0.00571038 3.00538186 0.03618899 0.29157811 1.97878257]\n",
            " [0.42903742 0.28939349 0.26890802 1.20013479 1.819374  ]\n",
            " [0.45631428 2.58672988 2.68135191 1.04792621 2.78537479]]\n"
          ],
          "name": "stdout"
        }
      ]
    }
  ]
}